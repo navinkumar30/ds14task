{
  "nbformat": 4,
  "nbformat_minor": 0,
  "metadata": {
    "kernelspec": {
      "display_name": "Python 3",
      "language": "python",
      "name": "python3"
    },
    "language_info": {
      "codemirror_mode": {
        "name": "ipython",
        "version": 3
      },
      "file_extension": ".py",
      "mimetype": "text/x-python",
      "name": "python",
      "nbconvert_exporter": "python",
      "pygments_lexer": "ipython3",
      "version": "3.8.3"
    },
    "colab": {
      "name": "Assessment2B.ipynb",
      "provenance": [],
      "include_colab_link": true
    }
  },
  "cells": [
    {
      "cell_type": "markdown",
      "metadata": {
        "id": "view-in-github",
        "colab_type": "text"
      },
      "source": [
        "<a href=\"https://colab.research.google.com/github/navinkumar30/ds14task/blob/main/Assessment2B.ipynb\" target=\"_parent\"><img src=\"https://colab.research.google.com/assets/colab-badge.svg\" alt=\"Open In Colab\"/></a>"
      ]
    },
    {
      "cell_type": "markdown",
      "metadata": {
        "id": "RBBOAsSArg0u"
      },
      "source": [
        "###### Assessment"
      ]
    },
    {
      "cell_type": "markdown",
      "metadata": {
        "id": "ROwO3xDOrg01"
      },
      "source": [
        "###### I am going to provide two .csv files , you are supposed to work on them and have to provide solutions to the following problems"
      ]
    },
    {
      "cell_type": "markdown",
      "metadata": {
        "id": "pKyHikzdrg02"
      },
      "source": [
        "###### import necessary libraries"
      ]
    },
    {
      "cell_type": "code",
      "metadata": {
        "id": "ewcF0F1Krg03"
      },
      "source": [
        "import pandas as pd\n",
        "import numpy as np"
      ],
      "execution_count": 1,
      "outputs": []
    },
    {
      "cell_type": "markdown",
      "metadata": {
        "id": "bk7r5yk9rg06"
      },
      "source": [
        "###### merge those two csv files (after getting as dataframes, get them as a single dataframe)"
      ]
    },
    {
      "cell_type": "code",
      "metadata": {
        "id": "bwdjcCgnrg06",
        "outputId": "c45e7687-3efd-4ebf-bf6f-0acff60006fb",
        "colab": {
          "resources": {
            "http://localhost:8080/nbextensions/google.colab/files.js": {
              "data": "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",
              "ok": true,
              "headers": [
                [
                  "content-type",
                  "application/javascript"
                ]
              ],
              "status": 200,
              "status_text": ""
            }
          },
          "base_uri": "https://localhost:8080/",
          "height": 166
        }
      },
      "source": [
        "from google.colab import files\n",
        "df = files.upload(),files.upload()\n",
        "print(df)"
      ],
      "execution_count": 9,
      "outputs": [
        {
          "output_type": "display_data",
          "data": {
            "text/html": [
              "\n",
              "     <input type=\"file\" id=\"files-abf69d7a-4b93-49b3-9996-2460acce1c12\" name=\"files[]\" multiple disabled\n",
              "        style=\"border:none\" />\n",
              "     <output id=\"result-abf69d7a-4b93-49b3-9996-2460acce1c12\">\n",
              "      Upload widget is only available when the cell has been executed in the\n",
              "      current browser session. Please rerun this cell to enable.\n",
              "      </output>\n",
              "      <script src=\"/nbextensions/google.colab/files.js\"></script> "
            ],
            "text/plain": [
              "<IPython.core.display.HTML object>"
            ]
          },
          "metadata": {}
        },
        {
          "output_type": "stream",
          "name": "stdout",
          "text": [
            "Saving college_1.csv to college_1 (6).csv\n"
          ]
        },
        {
          "output_type": "display_data",
          "data": {
            "text/html": [
              "\n",
              "     <input type=\"file\" id=\"files-9812a6d1-a78a-4a1d-a959-1fd7d3f1acdf\" name=\"files[]\" multiple disabled\n",
              "        style=\"border:none\" />\n",
              "     <output id=\"result-9812a6d1-a78a-4a1d-a959-1fd7d3f1acdf\">\n",
              "      Upload widget is only available when the cell has been executed in the\n",
              "      current browser session. Please rerun this cell to enable.\n",
              "      </output>\n",
              "      <script src=\"/nbextensions/google.colab/files.js\"></script> "
            ],
            "text/plain": [
              "<IPython.core.display.HTML object>"
            ]
          },
          "metadata": {}
        },
        {
          "output_type": "stream",
          "name": "stdout",
          "text": [
            "Saving college_2.csv to college_2 (5).csv\n",
            "({'college_1.csv': b'Name,python,mysql,Previous Geekions,CodeKata Score,Department,Rising\\r\\nA.Dharani,82,20,24500,24500,Computer Science and Engineering,0\\r\\nV.JEEVITHA ,82,20,21740,21740,Computer Science and Engineering,0\\r\\nHEMAVATHI.R,100,100,19680,19680,Computer Science and Engineering,0\\r\\nMugunthan S,100,47,10610,10610,Computer Science and Engineering,0\\r\\nSathammai.S,100,8,8980,8980,Computer Science and Engineering,0\\r\\nNIVEESHWAR S,100,0,8200,8200,Computer Science and Engineering,0\\r\\nKALAIARASAN K,85,47,7750,7880,Electronics and Communication Engineering,130\\r\\nMOHAMED ZUBAIR AHMED,82,4,7020,7020,Computer Science and Engineering,0\\r\\nJ.SUGANTHI,27,50,5860,5860,Electronics and Communication Engineering,0\\r\\nthamizhpaana,29,0,5500,5500,Computer Science and Engineering,0\\r\\nIyappan Samiraj,50,24,5400,5400,Electronics and Communication Engineering,0\\r\\nPonniyamma.R,100,11.25,5380,5380,Computer Science and Engineering,0\\r\\nSABAPATHI,100,0,5280,5280,Computer Science and Engineering,0\\r\\nRAGHAVAN,100,0,5120,5120,Computer Science and Engineering,0\\r\\nMelvin Dukles.R,56,20,4800,4800,Electronics and Communication Engineering,0\\r\\nPavithra,100,100,4600,4600,Computer Science and Engineering,0\\r\\nPRIYANKA .S,85,4,4510,4510,Computer Science and Engineering,0\\r\\nv.vithyasri,100,12,4370,4370,Electronics and Communication Engineering,0\\r\\nAbirami Anbazhagan,100,0,4320,4320,Electronics and Communication Engineering,0\\r\\nS.srinivasan,100,12,4090,4090,Computer Science and Engineering,0\\r\\ns.janani,100,0,3915,3915,Computer Science and Engineering,0\\r\\nkamalishwari,32,20,3665,3665,Electronics and Communication Engineering,0\\r\\nYuvasri,100,100,3460,3460,Computer Science and Engineering,0\\r\\nbalaji,82,0,3280,3280,Computer Science and Engineering,0\\r\\nMEERA.M,100,100,3200,3200,Computer Science and Engineering,0\\r\\nTpavithra,100,24,3200,3200,Electronics and Communication Engineering,0\\r\\nsri dharshini,100,100,3110,3110,Computer Science and Engineering,0\\r\\nshankari,87.5,20,3000,3000,Electronics and Communication Engineering,0\\r\\npooja priya.B,100,100,2570,2570,Computer Science and Engineering,0\\r\\nchithra,100,0,2410,2410,Computer Science and Engineering,0\\r\\nmanikandan,100,0,2360,2360,Computer Science and Engineering,0\\r\\nKaliaperumal G,100,0,2260,2260,Computer Science and Engineering,0\\r\\nSarumathiR,16,35,2240,2240,Electronics and Communication Engineering,0\\r\\nSOWMIYA.V,85,0,2160,2160,Computer Science and Engineering,0\\r\\ntamilarasi,100,100,1910,1910,Computer Science and Engineering,0\\r\\nBarath D,74,4,1910,1910,Electronics and Communication Engineering,0\\r\\nselvakumar,100,0,1900,1900,Computer Science and Engineering,0\\r\\nnivedha.s,100,77,1880,1880,Computer Science and Engineering,0\\r\\nStephen,100,0,1880,1880,Computer Science and Engineering,0\\r\\nvignesh,85,0,1740,1740,Electronics and Communication Engineering,0\\r\\nHSharukhan,100,0,1680,1680,Computer Science and Engineering,0\\r\\nvijayakumar,100,0,1580,1580,Computer Science and Engineering,0\\r\\nABIRAMI.S,82,0,1580,1580,Electronics and Communication Engineering,0\\r\\nv.gowsalya,53,50,1440,1440,Electronics and Communication Engineering,0\\r\\nponni.p,93,100,1350,1350,Computer Science and Engineering,0\\r\\nPRAVEENA K,100,100,1320,1320,Computer Science and Engineering,0\\r\\nsiva sai perumal polisetti,100,12,1240,1240,Electronics and Communication Engineering,0\\r\\nMadhumathiB,16,35,1130,1130,Electronics and Communication Engineering,0\\r\\nb.akshaya,82,0,1100,1100,Computer Science and Engineering,0\\r\\nbavithra,0,100,1020,1020,Electronics and Communication Engineering,0\\r\\nDeivani.S,0,86.25,980,980,Electronics and Communication Engineering,0\\r\\nNivetha.S,0,50,950,950,Electronics and Communication Engineering,0\\r\\nGUNAMATHI.S,0,77,850,850,Electronics and Communication Engineering,0\\r\\nRANJITH.R,100,0,800,800,Electronics and Communication Engineering,0\\r\\nu.abarna,3,39,770,770,Electronics and Communication Engineering,0\\r\\nkaviyarasi.k,16,28.75,760,760,Electronics and Communication Engineering,0\\r\\npravina,100,100,720,720,Computer Science and Engineering,0\\r\\nM.PRIYA,43,24,690,690,Electronics and Communication Engineering,0\\r\\nM.Nisha@mary,11,20,580,580,Electronics and Communication Engineering,0\\r\\nThivviya,82,8,490,490,Computer Science and Engineering,0\\r\\nmuvendiran.m,100,7.5,410,410,Electronics and Communication Engineering,0\\r\\nAravind,100,0,380,380,Computer Science and Engineering,0\\r\\nHaasini,100,0,300,300,Computer Science and Engineering,0\\r\\nE.Nalini,3,0,270,270,Electronics and Communication Engineering,0\\r\\nk.parvathi,100,100,260,260,Electronics and Electrical Engineering,0\\r\\njayapratha,82,0,200,200,Computer Science and Engineering,0\\r\\nEvanasundari.K,61,0,180,180,Computer Science and Engineering,0\\r\\ngousalya,56,27,170,170,Electronics and Communication Engineering,0\\r\\nsivaranjini,0,3.75,160,160,Electronics and Communication Engineering,0\\r\\nkarthika.G,100,0,120,120,Computer Science and Engineering,0\\r\\nvignesh B,82,20,120,120,Electronics and Communication Engineering,0\\r\\nm.keerthana,97.5,0,120,120,Electronics and Electrical Engineering,0\\r\\nSubhashini,100,4,120,120,Electronics and Electrical Engineering,0\\r\\nrajesh kumar.r,30,0,100,100,Electronics and Communication Engineering,0\\r\\nJ.Bhuvaneshwari,100,20,100,100,Electronics and Electrical Engineering,0\\r\\nsanthosh,82,12,60,60,Electronics and Electrical Engineering,0\\r\\nArun,95,4,40,40,Computer Science and Engineering,0\\r\\nJ.JAYANTHI,100,100,40,40,Electronics and Electrical Engineering,0\\r\\nvikneshwaran,100,4,40,40,Electronics and Electrical Engineering,0\\r\\nKarthikeyanS,45,0,0,0,Electronics and Electrical Engineering,0\\r\\nBARATH.P,29,0,0,0,Electronics and Electrical Engineering,0\\r\\nN.Ajith kumar,82,0,0,0,Electronics and Electrical Engineering,0\\r\\nmohamed nabi,0,0,0,0,Electronics and Electrical Engineering,0\\r\\nyaser ahamed.A,0,27,0,0,Electronics and Electrical Engineering,0\\r\\n'}, {'college_2.csv': b'Name,python,python_en,mysql,computational_thinking,Previous Geekions,CodeKata Score,Department,Rising\\r\\nASHOK KUMAR K,100,0,31,9,19400,19400,Electronics and Electrical Engineering,0\\r\\nChandru,0,20,0,0,14150,14490,Computer Science and Engineering,340\\r\\nGanesh Ramkumar R,-1,55,24,6,8790,10790,Computer Science and Engineering,2000\\r\\nBodipudi Harini,-1,0,35,-1,10040,10040,Electronics and Communication Engineering,0\\r\\nVIINU V P,-1,100,24,-1,9150,9150,Electronics and Electrical Engineering,0\\r\\n Poojitha Y,0,78,35,0,7210,8970,Computer Science and Engineering,1760\\r\\nGowtham Chandrasekaran,-1,0,0,3,7250,8950,Computer Science and Engineering,1700\\r\\nGowtham R,-1,60,4,6,8650,8650,Electronics and Communication Engineering,0\\r\\nshifak N,58,0,0,0,5180,8320,Electronics and Electrical Engineering,3140\\r\\nBalaji ,-1,100,20,0,6170,8160,Electronics and Electrical Engineering,1990\\r\\nRushitha,-1,15,62,9,7470,8090,Computer Science and Engineering,620\\r\\nBalaraman Muthupandi,-1,9,0,0,7670,8050,Computer Science and Engineering,380\\r\\nJPradhap,100,0,0,0,7340,8030,Electronics and Electrical Engineering,690\\r\\nSRIRAMKUMAR B,-1,0,0,0,6400,7940,Computer Science and Engineering,1540\\r\\nPraneetha,-1,23,100,-1,7170,7730,Electronics and Communication Engineering,560\\r\\nRahul Raj K,-1,0,0,0,6280,7640,Computer Science and Engineering,1360\\r\\nGuhan S,-1,72,35,39,7310,7630,Electronics and Communication Engineering,320\\r\\nSuryarajan S,-1,63,31,0,6710,7550,Computer Science and Engineering,840\\r\\nNarasimhan Y L,-1,-1,0,0,4800,6800,Computer Science and Engineering,2000\\r\\nLeelakrishna,-1,6,4,0,5300,6640,Computer Science and Engineering,1340\\r\\nPremsagarReddy,-1,20,0,0,5290,6290,Computer Science and Engineering,1000\\r\\npradeeban,16,20,24,0,6060,6090,Computer Science and Engineering,30\\r\\nsanthoshini,-1,43,0,0,3910,5740,Computer Science and Engineering,1830\\r\\nMUKESH S M,-1,46,0,0,5200,5200,Computer Science and Engineering,0\\r\\nP.GOVARDHANAN,-1,40,0,-1,5050,5050,Electronics and Communication Engineering,0\\r\\nSHAIK DANISH,-1,43,0,0,4050,4820,Computer Science and Engineering,770\\r\\nsridhar.s,-1,52,0,0,3860,4440,Computer Science and Engineering,580\\r\\nVimalesh Fernando,-1,0,0,0,4170,4170,Computer Science and Engineering,0\\r\\nM.Karthikeyan,-1,0,4,6,4020,4020,Computer Science and Engineering,0\\r\\nAbishak s,-1,55,35,6,3220,3220,Electronics and Communication Engineering,0\\r\\npraveen raj j,24,-1,0,0,2380,2380,Computer Science and Engineering,0\\r\\nAMARNATH D,-1,52,12,-1,1890,1890,Electronics and Communication Engineering,0\\r\\nbala,32,49,0,-1,1720,1720,Electronics and Communication Engineering,0\\r\\nXY Z,-1,20,-1,-1,0,0,Computer Science and Engineering,0\\r\\nHariharan,-1,-1,-1,0,0,0,Computer Science and Engineering,0\\r\\n'})\n"
          ]
        }
      ]
    },
    {
      "cell_type": "markdown",
      "metadata": {
        "id": "uwNj0y3hrg08"
      },
      "source": [
        "###### Take each csv file , split that csv file into multiple categories (example csv files are added in the repo) \n"
      ]
    },
    {
      "cell_type": "markdown",
      "metadata": {
        "id": "-21L_uTFrg09"
      },
      "source": [
        "###### consider if the codekata score exceeds 15000 points(present week) then make a csv on those observations as Exceeded expectations.csv\n"
      ]
    },
    {
      "cell_type": "markdown",
      "metadata": {
        "id": "kaFj8vvgrg0-"
      },
      "source": [
        "###### if  10000<codekata score<15000   (Reached_expectations.csv)\n",
        "\n"
      ]
    },
    {
      "cell_type": "markdown",
      "metadata": {
        "id": "oca2UoyPrg0_"
      },
      "source": [
        "###### if  7000<codekata score<10000   (Needs_Improvement.csv)\n"
      ]
    },
    {
      "cell_type": "markdown",
      "metadata": {
        "id": "FaG26LPSrg1A"
      },
      "source": [
        "###### if  codekate score < 7000        (Unsatisfactory.csv)"
      ]
    },
    {
      "cell_type": "code",
      "metadata": {
        "id": "iYX93Pvnrg1B"
      },
      "source": [
        ""
      ],
      "execution_count": 12,
      "outputs": []
    },
    {
      "cell_type": "code",
      "metadata": {
        "id": "9n329S_7rg1C"
      },
      "source": [
        ""
      ],
      "execution_count": null,
      "outputs": []
    },
    {
      "cell_type": "markdown",
      "metadata": {
        "id": "QXk_IDQ8rg1C"
      },
      "source": [
        "###### Average of previous week geekions vs this week geekions (i.e Previous Geekions vs CodeKata Score)"
      ]
    },
    {
      "cell_type": "code",
      "metadata": {
        "id": "cg6BQVwNrg1D"
      },
      "source": [
        ""
      ],
      "execution_count": null,
      "outputs": []
    },
    {
      "cell_type": "markdown",
      "metadata": {
        "id": "RUyfxyfkrg1D"
      },
      "source": [
        "###### No of students participated "
      ]
    },
    {
      "cell_type": "code",
      "metadata": {
        "id": "o9Was_M_rg1D"
      },
      "source": [
        ""
      ],
      "execution_count": 12,
      "outputs": []
    },
    {
      "cell_type": "markdown",
      "metadata": {
        "id": "Ec9LDdYGrg1E"
      },
      "source": [
        "###### #Average completion of python course or my_sql or python english or computational thinking"
      ]
    },
    {
      "cell_type": "code",
      "metadata": {
        "id": "9m1xTsdRrg1E"
      },
      "source": [
        ""
      ],
      "execution_count": null,
      "outputs": []
    },
    {
      "cell_type": "markdown",
      "metadata": {
        "id": "wPBro7INrg1F"
      },
      "source": [
        "###### rising star of the week (top 3 candidate who performed well in that particular week)"
      ]
    },
    {
      "cell_type": "code",
      "metadata": {
        "id": "r6n8CxTnrg1F"
      },
      "source": [
        ""
      ],
      "execution_count": null,
      "outputs": []
    },
    {
      "cell_type": "markdown",
      "metadata": {
        "id": "EgerfLsxrg1G"
      },
      "source": [
        "###### Shining stars of the week (top 3 candidates who has highest geekions)"
      ]
    },
    {
      "cell_type": "code",
      "metadata": {
        "id": "4kHK2DK9rg1H"
      },
      "source": [
        ""
      ],
      "execution_count": null,
      "outputs": []
    },
    {
      "cell_type": "markdown",
      "metadata": {
        "id": "OX3_18sLrg1H"
      },
      "source": [
        "###### Department wise codekata performence (pie chart)"
      ]
    },
    {
      "cell_type": "code",
      "metadata": {
        "id": "3g20rj7Grg1I"
      },
      "source": [
        ""
      ],
      "execution_count": null,
      "outputs": []
    },
    {
      "cell_type": "markdown",
      "metadata": {
        "id": "LNWhh1XArg1I"
      },
      "source": [
        "###### Department wise toppers (horizantal bar graph or any visual representations of your choice)"
      ]
    },
    {
      "cell_type": "code",
      "metadata": {
        "id": "sHS-ZAGFrg1J"
      },
      "source": [
        ""
      ],
      "execution_count": null,
      "outputs": []
    },
    {
      "cell_type": "code",
      "metadata": {
        "id": "J3hpS2CWrg1J"
      },
      "source": [
        ""
      ],
      "execution_count": null,
      "outputs": []
    },
    {
      "cell_type": "code",
      "metadata": {
        "id": "PtHAKeYTrg1K"
      },
      "source": [
        ""
      ],
      "execution_count": null,
      "outputs": []
    },
    {
      "cell_type": "code",
      "metadata": {
        "id": "19fcUPoxrg1K"
      },
      "source": [
        ""
      ],
      "execution_count": null,
      "outputs": []
    }
  ]
}
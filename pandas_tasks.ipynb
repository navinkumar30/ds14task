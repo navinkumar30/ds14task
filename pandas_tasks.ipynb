{
  "nbformat": 4,
  "nbformat_minor": 0,
  "metadata": {
    "kernelspec": {
      "display_name": "Python 3",
      "language": "python",
      "name": "python3"
    },
    "language_info": {
      "codemirror_mode": {
        "name": "ipython",
        "version": 3
      },
      "file_extension": ".py",
      "mimetype": "text/x-python",
      "name": "python",
      "nbconvert_exporter": "python",
      "pygments_lexer": "ipython3",
      "version": "3.8.3"
    },
    "colab": {
      "name": "pandas_tasks.ipynb",
      "provenance": [],
      "include_colab_link": true
    }
  },
  "cells": [
    {
      "cell_type": "markdown",
      "metadata": {
        "id": "view-in-github",
        "colab_type": "text"
      },
      "source": [
        "<a href=\"https://colab.research.google.com/github/navinkumar30/ds14task/blob/main/pandas_tasks.ipynb\" target=\"_parent\"><img src=\"https://colab.research.google.com/assets/colab-badge.svg\" alt=\"Open In Colab\"/></a>"
      ]
    },
    {
      "cell_type": "markdown",
      "metadata": {
        "id": "lQN3UkY2Z0Ax"
      },
      "source": [
        "# pandas \n"
      ]
    },
    {
      "cell_type": "markdown",
      "metadata": {
        "id": "Gurr1RXyZ0A3"
      },
      "source": [
        "## Importing pandas\n",
        "\n",
        "### Getting started and checking your pandas setup\n",
        "\n",
        "Difficulty: *easy* \n",
        "\n",
        "**1.** Import pandas under the name `pd`."
      ]
    },
    {
      "cell_type": "code",
      "metadata": {
        "collapsed": true,
        "id": "oyWb3WpkZ0A5"
      },
      "source": [
        "import pandas as pd"
      ],
      "execution_count": 82,
      "outputs": []
    },
    {
      "cell_type": "markdown",
      "metadata": {
        "id": "rTK2scY-Z0A6"
      },
      "source": [
        "**2.** Print the version of pandas that has been imported."
      ]
    },
    {
      "cell_type": "code",
      "metadata": {
        "collapsed": true,
        "colab": {
          "base_uri": "https://localhost:8080/",
          "height": 35
        },
        "id": "Ssy06OSRZ0A6",
        "outputId": "42e712e6-9108-486c-f3cd-9bce1c82ae55"
      },
      "source": [
        "pd.__version__"
      ],
      "execution_count": 83,
      "outputs": [
        {
          "output_type": "execute_result",
          "data": {
            "application/vnd.google.colaboratory.intrinsic+json": {
              "type": "string"
            },
            "text/plain": [
              "'1.1.5'"
            ]
          },
          "metadata": {},
          "execution_count": 83
        }
      ]
    },
    {
      "cell_type": "markdown",
      "metadata": {
        "id": "SMrIP_lgZ0A7"
      },
      "source": [
        "**3.** Print out all the version information of the libraries that are required by the pandas library."
      ]
    },
    {
      "cell_type": "code",
      "metadata": {
        "collapsed": true,
        "colab": {
          "base_uri": "https://localhost:8080/"
        },
        "id": "ehyOBg0fZ0A8",
        "outputId": "fd754d13-ad46-4769-8f58-18f2a818ed62"
      },
      "source": [
        "print(pd.show_versions())"
      ],
      "execution_count": 84,
      "outputs": [
        {
          "output_type": "stream",
          "name": "stdout",
          "text": [
            "\n",
            "INSTALLED VERSIONS\n",
            "------------------\n",
            "commit           : b5958ee1999e9aead1938c0bba2b674378807b3d\n",
            "python           : 3.7.12.final.0\n",
            "python-bits      : 64\n",
            "OS               : Linux\n",
            "OS-release       : 5.4.104+\n",
            "Version          : #1 SMP Sat Jun 5 09:50:34 PDT 2021\n",
            "machine          : x86_64\n",
            "processor        : x86_64\n",
            "byteorder        : little\n",
            "LC_ALL           : None\n",
            "LANG             : en_US.UTF-8\n",
            "LOCALE           : en_US.UTF-8\n",
            "\n",
            "pandas           : 1.1.5\n",
            "numpy            : 1.19.5\n",
            "pytz             : 2018.9\n",
            "dateutil         : 2.8.2\n",
            "pip              : 21.1.3\n",
            "setuptools       : 57.4.0\n",
            "Cython           : 0.29.24\n",
            "pytest           : 3.6.4\n",
            "hypothesis       : None\n",
            "sphinx           : 1.8.6\n",
            "blosc            : None\n",
            "feather          : 0.4.1\n",
            "xlsxwriter       : None\n",
            "lxml.etree       : 4.2.6\n",
            "html5lib         : 1.0.1\n",
            "pymysql          : None\n",
            "psycopg2         : 2.7.6.1 (dt dec pq3 ext lo64)\n",
            "jinja2           : 2.11.3\n",
            "IPython          : 5.5.0\n",
            "pandas_datareader: 0.9.0\n",
            "bs4              : 4.6.3\n",
            "bottleneck       : 1.3.2\n",
            "fsspec           : None\n",
            "fastparquet      : None\n",
            "gcsfs            : None\n",
            "matplotlib       : 3.2.2\n",
            "numexpr          : 2.7.3\n",
            "odfpy            : None\n",
            "openpyxl         : 2.5.9\n",
            "pandas_gbq       : 0.13.3\n",
            "pyarrow          : 3.0.0\n",
            "pytables         : None\n",
            "pyxlsb           : None\n",
            "s3fs             : None\n",
            "scipy            : 1.4.1\n",
            "sqlalchemy       : 1.4.27\n",
            "tables           : 3.4.4\n",
            "tabulate         : 0.8.9\n",
            "xarray           : 0.18.2\n",
            "xlrd             : 1.1.0\n",
            "xlwt             : 1.3.0\n",
            "numba            : 0.51.2\n",
            "None\n"
          ]
        }
      ]
    },
    {
      "cell_type": "markdown",
      "metadata": {
        "id": "lGgZl1s8Z0A9"
      },
      "source": [
        "## DataFrame basics\n",
        "\n",
        "### A few of the fundamental routines for selecting, sorting, adding and aggregating data in DataFrames\n",
        "\n",
        "Difficulty: *easy*\n",
        "\n",
        "Note: remember to import numpy using:\n",
        "```python\n",
        "import numpy as np\n",
        "```\n",
        "\n",
        "Consider the following Python dictionary `data` and Python list `labels`:\n",
        "\n",
        "``` python\n",
        "data = {'animal': ['cat', 'cat', 'snake', 'dog', 'dog', 'cat', 'snake', 'cat', 'dog', 'dog'],\n",
        "        'age': [2.5, 3, 0.5, np.nan, 5, 2, 4.5, np.nan, 7, 3],\n",
        "        'visits': [1, 3, 2, 3, 2, 3, 1, 1, 2, 1],\n",
        "        'priority': ['yes', 'yes', 'no', 'yes', 'no', 'no', 'no', 'yes', 'no', 'no']}\n",
        "\n",
        "labels = ['a', 'b', 'c', 'd', 'e', 'f', 'g', 'h', 'i', 'j']\n",
        "```\n",
        "(This is just some meaningless data I made up with the theme of animals and trips to a vet.)\n",
        "\n",
        "**4.** Create a DataFrame `df` from this dictionary `data` which has the index `labels`."
      ]
    },
    {
      "cell_type": "code",
      "metadata": {
        "collapsed": true,
        "id": "Vrou0mY6Z0A-"
      },
      "source": [
        "import numpy as np\n",
        "df = pd.DataFrame(data, index=labels)"
      ],
      "execution_count": 85,
      "outputs": []
    },
    {
      "cell_type": "markdown",
      "metadata": {
        "id": "NYFxpeE6Z0A_"
      },
      "source": [
        "**5.** Display a summary of the basic information about this DataFrame and its data."
      ]
    },
    {
      "cell_type": "code",
      "metadata": {
        "collapsed": true,
        "colab": {
          "base_uri": "https://localhost:8080/"
        },
        "id": "gbZIw2tsZ0BA",
        "outputId": "5469e16d-93b2-4fc7-e4b2-c373e006bf0b"
      },
      "source": [
        "df.info()"
      ],
      "execution_count": 87,
      "outputs": [
        {
          "output_type": "stream",
          "name": "stdout",
          "text": [
            "<class 'pandas.core.frame.DataFrame'>\n",
            "Index: 10 entries, a to j\n",
            "Data columns (total 4 columns):\n",
            " #   Column    Non-Null Count  Dtype  \n",
            "---  ------    --------------  -----  \n",
            " 0   animal    10 non-null     object \n",
            " 1   age       8 non-null      float64\n",
            " 2   visits    10 non-null     int64  \n",
            " 3   priority  10 non-null     object \n",
            "dtypes: float64(1), int64(1), object(2)\n",
            "memory usage: 400.0+ bytes\n"
          ]
        }
      ]
    },
    {
      "cell_type": "markdown",
      "metadata": {
        "id": "bY55GTZvZ0BA"
      },
      "source": [
        "**6.** Return the first 3 rows of the DataFrame `df`."
      ]
    },
    {
      "cell_type": "code",
      "metadata": {
        "collapsed": true,
        "colab": {
          "base_uri": "https://localhost:8080/",
          "height": 143
        },
        "id": "oJzND16zZ0BB",
        "outputId": "5eb732c3-ec7e-4031-831e-13bc4c93b6d5"
      },
      "source": [
        "df.head(3)"
      ],
      "execution_count": 88,
      "outputs": [
        {
          "output_type": "execute_result",
          "data": {
            "text/html": [
              "<div>\n",
              "<style scoped>\n",
              "    .dataframe tbody tr th:only-of-type {\n",
              "        vertical-align: middle;\n",
              "    }\n",
              "\n",
              "    .dataframe tbody tr th {\n",
              "        vertical-align: top;\n",
              "    }\n",
              "\n",
              "    .dataframe thead th {\n",
              "        text-align: right;\n",
              "    }\n",
              "</style>\n",
              "<table border=\"1\" class=\"dataframe\">\n",
              "  <thead>\n",
              "    <tr style=\"text-align: right;\">\n",
              "      <th></th>\n",
              "      <th>animal</th>\n",
              "      <th>age</th>\n",
              "      <th>visits</th>\n",
              "      <th>priority</th>\n",
              "    </tr>\n",
              "  </thead>\n",
              "  <tbody>\n",
              "    <tr>\n",
              "      <th>a</th>\n",
              "      <td>cat</td>\n",
              "      <td>2.5</td>\n",
              "      <td>1</td>\n",
              "      <td>yes</td>\n",
              "    </tr>\n",
              "    <tr>\n",
              "      <th>b</th>\n",
              "      <td>cat</td>\n",
              "      <td>3.0</td>\n",
              "      <td>3</td>\n",
              "      <td>yes</td>\n",
              "    </tr>\n",
              "    <tr>\n",
              "      <th>c</th>\n",
              "      <td>snake</td>\n",
              "      <td>0.5</td>\n",
              "      <td>2</td>\n",
              "      <td>no</td>\n",
              "    </tr>\n",
              "  </tbody>\n",
              "</table>\n",
              "</div>"
            ],
            "text/plain": [
              "  animal  age  visits priority\n",
              "a    cat  2.5       1      yes\n",
              "b    cat  3.0       3      yes\n",
              "c  snake  0.5       2       no"
            ]
          },
          "metadata": {},
          "execution_count": 88
        }
      ]
    },
    {
      "cell_type": "markdown",
      "metadata": {
        "id": "om3loiJ7Z0BB"
      },
      "source": [
        "**7.** Select just the 'animal' and 'age' columns from the DataFrame `df`."
      ]
    },
    {
      "cell_type": "code",
      "metadata": {
        "collapsed": true,
        "colab": {
          "base_uri": "https://localhost:8080/",
          "height": 363
        },
        "id": "HX4r1e4xZ0BC",
        "outputId": "62808c3f-e864-483c-8aff-9ce3a5a66e7b"
      },
      "source": [
        "df[['animal','age']]"
      ],
      "execution_count": 89,
      "outputs": [
        {
          "output_type": "execute_result",
          "data": {
            "text/html": [
              "<div>\n",
              "<style scoped>\n",
              "    .dataframe tbody tr th:only-of-type {\n",
              "        vertical-align: middle;\n",
              "    }\n",
              "\n",
              "    .dataframe tbody tr th {\n",
              "        vertical-align: top;\n",
              "    }\n",
              "\n",
              "    .dataframe thead th {\n",
              "        text-align: right;\n",
              "    }\n",
              "</style>\n",
              "<table border=\"1\" class=\"dataframe\">\n",
              "  <thead>\n",
              "    <tr style=\"text-align: right;\">\n",
              "      <th></th>\n",
              "      <th>animal</th>\n",
              "      <th>age</th>\n",
              "    </tr>\n",
              "  </thead>\n",
              "  <tbody>\n",
              "    <tr>\n",
              "      <th>a</th>\n",
              "      <td>cat</td>\n",
              "      <td>2.5</td>\n",
              "    </tr>\n",
              "    <tr>\n",
              "      <th>b</th>\n",
              "      <td>cat</td>\n",
              "      <td>3.0</td>\n",
              "    </tr>\n",
              "    <tr>\n",
              "      <th>c</th>\n",
              "      <td>snake</td>\n",
              "      <td>0.5</td>\n",
              "    </tr>\n",
              "    <tr>\n",
              "      <th>d</th>\n",
              "      <td>dog</td>\n",
              "      <td>NaN</td>\n",
              "    </tr>\n",
              "    <tr>\n",
              "      <th>e</th>\n",
              "      <td>dog</td>\n",
              "      <td>5.0</td>\n",
              "    </tr>\n",
              "    <tr>\n",
              "      <th>f</th>\n",
              "      <td>cat</td>\n",
              "      <td>2.0</td>\n",
              "    </tr>\n",
              "    <tr>\n",
              "      <th>g</th>\n",
              "      <td>snake</td>\n",
              "      <td>4.5</td>\n",
              "    </tr>\n",
              "    <tr>\n",
              "      <th>h</th>\n",
              "      <td>cat</td>\n",
              "      <td>NaN</td>\n",
              "    </tr>\n",
              "    <tr>\n",
              "      <th>i</th>\n",
              "      <td>dog</td>\n",
              "      <td>7.0</td>\n",
              "    </tr>\n",
              "    <tr>\n",
              "      <th>j</th>\n",
              "      <td>dog</td>\n",
              "      <td>3.0</td>\n",
              "    </tr>\n",
              "  </tbody>\n",
              "</table>\n",
              "</div>"
            ],
            "text/plain": [
              "  animal  age\n",
              "a    cat  2.5\n",
              "b    cat  3.0\n",
              "c  snake  0.5\n",
              "d    dog  NaN\n",
              "e    dog  5.0\n",
              "f    cat  2.0\n",
              "g  snake  4.5\n",
              "h    cat  NaN\n",
              "i    dog  7.0\n",
              "j    dog  3.0"
            ]
          },
          "metadata": {},
          "execution_count": 89
        }
      ]
    },
    {
      "cell_type": "markdown",
      "metadata": {
        "id": "SWAL-cBVZ0BC"
      },
      "source": [
        "**8.** Select the data in rows `[3, 4, 8]` *and* in columns `['animal', 'age']`."
      ]
    },
    {
      "cell_type": "code",
      "metadata": {
        "collapsed": true,
        "colab": {
          "base_uri": "https://localhost:8080/",
          "height": 143
        },
        "id": "idiXMqU8Z0BD",
        "outputId": "89c07dca-11ff-4d52-b4af-e38ae59b0540"
      },
      "source": [
        "df.loc[df.index[[3, 4, 8]], ['animal', 'age']]"
      ],
      "execution_count": 90,
      "outputs": [
        {
          "output_type": "execute_result",
          "data": {
            "text/html": [
              "<div>\n",
              "<style scoped>\n",
              "    .dataframe tbody tr th:only-of-type {\n",
              "        vertical-align: middle;\n",
              "    }\n",
              "\n",
              "    .dataframe tbody tr th {\n",
              "        vertical-align: top;\n",
              "    }\n",
              "\n",
              "    .dataframe thead th {\n",
              "        text-align: right;\n",
              "    }\n",
              "</style>\n",
              "<table border=\"1\" class=\"dataframe\">\n",
              "  <thead>\n",
              "    <tr style=\"text-align: right;\">\n",
              "      <th></th>\n",
              "      <th>animal</th>\n",
              "      <th>age</th>\n",
              "    </tr>\n",
              "  </thead>\n",
              "  <tbody>\n",
              "    <tr>\n",
              "      <th>d</th>\n",
              "      <td>dog</td>\n",
              "      <td>NaN</td>\n",
              "    </tr>\n",
              "    <tr>\n",
              "      <th>e</th>\n",
              "      <td>dog</td>\n",
              "      <td>5.0</td>\n",
              "    </tr>\n",
              "    <tr>\n",
              "      <th>i</th>\n",
              "      <td>dog</td>\n",
              "      <td>7.0</td>\n",
              "    </tr>\n",
              "  </tbody>\n",
              "</table>\n",
              "</div>"
            ],
            "text/plain": [
              "  animal  age\n",
              "d    dog  NaN\n",
              "e    dog  5.0\n",
              "i    dog  7.0"
            ]
          },
          "metadata": {},
          "execution_count": 90
        }
      ]
    },
    {
      "cell_type": "markdown",
      "metadata": {
        "id": "1vvSjbHyZ0BD"
      },
      "source": [
        "**9.** Select only the rows where the number of visits is greater than 3."
      ]
    },
    {
      "cell_type": "code",
      "metadata": {
        "collapsed": true,
        "colab": {
          "base_uri": "https://localhost:8080/",
          "height": 49
        },
        "id": "FKmmN6ATZ0BE",
        "outputId": "048fc2b9-de46-4c3b-9b8a-95a4ba4f1603"
      },
      "source": [
        "df[df['visits']>3]"
      ],
      "execution_count": 91,
      "outputs": [
        {
          "output_type": "execute_result",
          "data": {
            "text/html": [
              "<div>\n",
              "<style scoped>\n",
              "    .dataframe tbody tr th:only-of-type {\n",
              "        vertical-align: middle;\n",
              "    }\n",
              "\n",
              "    .dataframe tbody tr th {\n",
              "        vertical-align: top;\n",
              "    }\n",
              "\n",
              "    .dataframe thead th {\n",
              "        text-align: right;\n",
              "    }\n",
              "</style>\n",
              "<table border=\"1\" class=\"dataframe\">\n",
              "  <thead>\n",
              "    <tr style=\"text-align: right;\">\n",
              "      <th></th>\n",
              "      <th>animal</th>\n",
              "      <th>age</th>\n",
              "      <th>visits</th>\n",
              "      <th>priority</th>\n",
              "    </tr>\n",
              "  </thead>\n",
              "  <tbody>\n",
              "  </tbody>\n",
              "</table>\n",
              "</div>"
            ],
            "text/plain": [
              "Empty DataFrame\n",
              "Columns: [animal, age, visits, priority]\n",
              "Index: []"
            ]
          },
          "metadata": {},
          "execution_count": 91
        }
      ]
    },
    {
      "cell_type": "markdown",
      "metadata": {
        "id": "5lV0OZ9XZ0BE"
      },
      "source": [
        "**10.** Select the rows where the age is missing, i.e. is `NaN`."
      ]
    },
    {
      "cell_type": "code",
      "metadata": {
        "collapsed": true,
        "colab": {
          "base_uri": "https://localhost:8080/",
          "height": 112
        },
        "id": "zfM6Wn9cZ0BF",
        "outputId": "d55a9a39-8f97-4623-bf2f-529c4dc2e1a8"
      },
      "source": [
        "df[df['age'].isnull()]"
      ],
      "execution_count": 92,
      "outputs": [
        {
          "output_type": "execute_result",
          "data": {
            "text/html": [
              "<div>\n",
              "<style scoped>\n",
              "    .dataframe tbody tr th:only-of-type {\n",
              "        vertical-align: middle;\n",
              "    }\n",
              "\n",
              "    .dataframe tbody tr th {\n",
              "        vertical-align: top;\n",
              "    }\n",
              "\n",
              "    .dataframe thead th {\n",
              "        text-align: right;\n",
              "    }\n",
              "</style>\n",
              "<table border=\"1\" class=\"dataframe\">\n",
              "  <thead>\n",
              "    <tr style=\"text-align: right;\">\n",
              "      <th></th>\n",
              "      <th>animal</th>\n",
              "      <th>age</th>\n",
              "      <th>visits</th>\n",
              "      <th>priority</th>\n",
              "    </tr>\n",
              "  </thead>\n",
              "  <tbody>\n",
              "    <tr>\n",
              "      <th>d</th>\n",
              "      <td>dog</td>\n",
              "      <td>NaN</td>\n",
              "      <td>3</td>\n",
              "      <td>yes</td>\n",
              "    </tr>\n",
              "    <tr>\n",
              "      <th>h</th>\n",
              "      <td>cat</td>\n",
              "      <td>NaN</td>\n",
              "      <td>1</td>\n",
              "      <td>yes</td>\n",
              "    </tr>\n",
              "  </tbody>\n",
              "</table>\n",
              "</div>"
            ],
            "text/plain": [
              "  animal  age  visits priority\n",
              "d    dog  NaN       3      yes\n",
              "h    cat  NaN       1      yes"
            ]
          },
          "metadata": {},
          "execution_count": 92
        }
      ]
    },
    {
      "cell_type": "markdown",
      "metadata": {
        "id": "csFvJMoqZ0BF"
      },
      "source": [
        "**11.** Select the rows where the animal is a cat *and* the age is less than 3."
      ]
    },
    {
      "cell_type": "code",
      "metadata": {
        "collapsed": true,
        "colab": {
          "base_uri": "https://localhost:8080/",
          "height": 112
        },
        "id": "sYgCXH_UZ0BG",
        "outputId": "cba18a22-fb06-4e3e-caa2-a63d5e1f6b18"
      },
      "source": [
        "df[(df['animal'] == 'cat') & (df['age'] < 3)]"
      ],
      "execution_count": 93,
      "outputs": [
        {
          "output_type": "execute_result",
          "data": {
            "text/html": [
              "<div>\n",
              "<style scoped>\n",
              "    .dataframe tbody tr th:only-of-type {\n",
              "        vertical-align: middle;\n",
              "    }\n",
              "\n",
              "    .dataframe tbody tr th {\n",
              "        vertical-align: top;\n",
              "    }\n",
              "\n",
              "    .dataframe thead th {\n",
              "        text-align: right;\n",
              "    }\n",
              "</style>\n",
              "<table border=\"1\" class=\"dataframe\">\n",
              "  <thead>\n",
              "    <tr style=\"text-align: right;\">\n",
              "      <th></th>\n",
              "      <th>animal</th>\n",
              "      <th>age</th>\n",
              "      <th>visits</th>\n",
              "      <th>priority</th>\n",
              "    </tr>\n",
              "  </thead>\n",
              "  <tbody>\n",
              "    <tr>\n",
              "      <th>a</th>\n",
              "      <td>cat</td>\n",
              "      <td>2.5</td>\n",
              "      <td>1</td>\n",
              "      <td>yes</td>\n",
              "    </tr>\n",
              "    <tr>\n",
              "      <th>f</th>\n",
              "      <td>cat</td>\n",
              "      <td>2.0</td>\n",
              "      <td>3</td>\n",
              "      <td>no</td>\n",
              "    </tr>\n",
              "  </tbody>\n",
              "</table>\n",
              "</div>"
            ],
            "text/plain": [
              "  animal  age  visits priority\n",
              "a    cat  2.5       1      yes\n",
              "f    cat  2.0       3       no"
            ]
          },
          "metadata": {},
          "execution_count": 93
        }
      ]
    },
    {
      "cell_type": "markdown",
      "metadata": {
        "id": "1HTLpekIZ0BG"
      },
      "source": [
        "**12.** Select the rows the age is between 2 and 4 (inclusive)."
      ]
    },
    {
      "cell_type": "code",
      "metadata": {
        "collapsed": true,
        "colab": {
          "base_uri": "https://localhost:8080/",
          "height": 175
        },
        "id": "0vjuuG9sZ0BG",
        "outputId": "693838b7-c0fe-4876-ecb7-e07a4d49fdc6"
      },
      "source": [
        "df[df['age'].between(2, 4)]"
      ],
      "execution_count": 94,
      "outputs": [
        {
          "output_type": "execute_result",
          "data": {
            "text/html": [
              "<div>\n",
              "<style scoped>\n",
              "    .dataframe tbody tr th:only-of-type {\n",
              "        vertical-align: middle;\n",
              "    }\n",
              "\n",
              "    .dataframe tbody tr th {\n",
              "        vertical-align: top;\n",
              "    }\n",
              "\n",
              "    .dataframe thead th {\n",
              "        text-align: right;\n",
              "    }\n",
              "</style>\n",
              "<table border=\"1\" class=\"dataframe\">\n",
              "  <thead>\n",
              "    <tr style=\"text-align: right;\">\n",
              "      <th></th>\n",
              "      <th>animal</th>\n",
              "      <th>age</th>\n",
              "      <th>visits</th>\n",
              "      <th>priority</th>\n",
              "    </tr>\n",
              "  </thead>\n",
              "  <tbody>\n",
              "    <tr>\n",
              "      <th>a</th>\n",
              "      <td>cat</td>\n",
              "      <td>2.5</td>\n",
              "      <td>1</td>\n",
              "      <td>yes</td>\n",
              "    </tr>\n",
              "    <tr>\n",
              "      <th>b</th>\n",
              "      <td>cat</td>\n",
              "      <td>3.0</td>\n",
              "      <td>3</td>\n",
              "      <td>yes</td>\n",
              "    </tr>\n",
              "    <tr>\n",
              "      <th>f</th>\n",
              "      <td>cat</td>\n",
              "      <td>2.0</td>\n",
              "      <td>3</td>\n",
              "      <td>no</td>\n",
              "    </tr>\n",
              "    <tr>\n",
              "      <th>j</th>\n",
              "      <td>dog</td>\n",
              "      <td>3.0</td>\n",
              "      <td>1</td>\n",
              "      <td>no</td>\n",
              "    </tr>\n",
              "  </tbody>\n",
              "</table>\n",
              "</div>"
            ],
            "text/plain": [
              "  animal  age  visits priority\n",
              "a    cat  2.5       1      yes\n",
              "b    cat  3.0       3      yes\n",
              "f    cat  2.0       3       no\n",
              "j    dog  3.0       1       no"
            ]
          },
          "metadata": {},
          "execution_count": 94
        }
      ]
    },
    {
      "cell_type": "markdown",
      "metadata": {
        "id": "jArpqqSKZ0BG"
      },
      "source": [
        "**13.** Change the age in row 'f' to 1.5."
      ]
    },
    {
      "cell_type": "code",
      "metadata": {
        "collapsed": true,
        "colab": {
          "base_uri": "https://localhost:8080/"
        },
        "id": "rMk6D5eQZ0BH",
        "outputId": "4c46bbb5-bb90-4ee4-83c7-7fd275b7a51f"
      },
      "source": [
        "df.loc['f','age'] == 1.5"
      ],
      "execution_count": 95,
      "outputs": [
        {
          "output_type": "execute_result",
          "data": {
            "text/plain": [
              "False"
            ]
          },
          "metadata": {},
          "execution_count": 95
        }
      ]
    },
    {
      "cell_type": "markdown",
      "metadata": {
        "id": "RMcveKPkZ0BH"
      },
      "source": [
        "**14.** Calculate the sum of all visits (the total number of visits)."
      ]
    },
    {
      "cell_type": "code",
      "metadata": {
        "collapsed": true,
        "colab": {
          "base_uri": "https://localhost:8080/"
        },
        "id": "vDMw-dctZ0BH",
        "outputId": "b652bb04-d057-4fe5-c07f-fe626f3a46af"
      },
      "source": [
        "df['visits'].sum()"
      ],
      "execution_count": 96,
      "outputs": [
        {
          "output_type": "execute_result",
          "data": {
            "text/plain": [
              "19"
            ]
          },
          "metadata": {},
          "execution_count": 96
        }
      ]
    },
    {
      "cell_type": "markdown",
      "metadata": {
        "id": "rhAU6inIZ0BH"
      },
      "source": [
        "**15.** Calculate the mean age for each different animal in `df`."
      ]
    },
    {
      "cell_type": "code",
      "metadata": {
        "collapsed": true,
        "colab": {
          "base_uri": "https://localhost:8080/"
        },
        "id": "A9vbW2crZ0BI",
        "outputId": "6b84fe1f-3a74-4418-e779-15925b805abd"
      },
      "source": [
        "df.groupby('animal')['age'].mean()"
      ],
      "execution_count": 97,
      "outputs": [
        {
          "output_type": "execute_result",
          "data": {
            "text/plain": [
              "animal\n",
              "cat      2.5\n",
              "dog      5.0\n",
              "snake    2.5\n",
              "Name: age, dtype: float64"
            ]
          },
          "metadata": {},
          "execution_count": 97
        }
      ]
    },
    {
      "cell_type": "markdown",
      "metadata": {
        "id": "RAAvmp5ZZ0BI"
      },
      "source": [
        "**16.** Append a new row 'k' to `df` with your choice of values for each column. Then delete that row to return the original DataFrame."
      ]
    },
    {
      "cell_type": "code",
      "metadata": {
        "collapsed": true,
        "id": "dzalnIEyZ0BI"
      },
      "source": [
        "df.loc['k'] = [5.5, 'dog', 'no', 2]\n",
        "\n",
        "df = df.drop('k')"
      ],
      "execution_count": 98,
      "outputs": []
    },
    {
      "cell_type": "markdown",
      "metadata": {
        "id": "3ocQgHNbZ0BI"
      },
      "source": [
        "**17.** Count the number of each type of animal in `df`."
      ]
    },
    {
      "cell_type": "code",
      "metadata": {
        "collapsed": true,
        "colab": {
          "base_uri": "https://localhost:8080/"
        },
        "id": "LPOZqcQIZ0BJ",
        "outputId": "b1530306-7b44-49b7-dbc7-b7f5532e0456"
      },
      "source": [
        "df['animal'].value_counts()"
      ],
      "execution_count": 99,
      "outputs": [
        {
          "output_type": "execute_result",
          "data": {
            "text/plain": [
              "cat      4\n",
              "dog      4\n",
              "snake    2\n",
              "Name: animal, dtype: int64"
            ]
          },
          "metadata": {},
          "execution_count": 99
        }
      ]
    },
    {
      "cell_type": "markdown",
      "metadata": {
        "id": "GWEKeB1_Z0BJ"
      },
      "source": [
        "**18.** Sort `df` first by the values in the 'age' in *decending* order, then by the value in the 'visit' column in *ascending* order."
      ]
    },
    {
      "cell_type": "code",
      "metadata": {
        "collapsed": true,
        "colab": {
          "base_uri": "https://localhost:8080/",
          "height": 363
        },
        "id": "lEUE8cJbZ0BJ",
        "outputId": "51c7e0d1-92b2-47ed-bf86-465a0ef712f9"
      },
      "source": [
        "df.sort_values(by=['age', 'visits'], ascending=[False, True])"
      ],
      "execution_count": 100,
      "outputs": [
        {
          "output_type": "execute_result",
          "data": {
            "text/html": [
              "<div>\n",
              "<style scoped>\n",
              "    .dataframe tbody tr th:only-of-type {\n",
              "        vertical-align: middle;\n",
              "    }\n",
              "\n",
              "    .dataframe tbody tr th {\n",
              "        vertical-align: top;\n",
              "    }\n",
              "\n",
              "    .dataframe thead th {\n",
              "        text-align: right;\n",
              "    }\n",
              "</style>\n",
              "<table border=\"1\" class=\"dataframe\">\n",
              "  <thead>\n",
              "    <tr style=\"text-align: right;\">\n",
              "      <th></th>\n",
              "      <th>animal</th>\n",
              "      <th>age</th>\n",
              "      <th>visits</th>\n",
              "      <th>priority</th>\n",
              "    </tr>\n",
              "  </thead>\n",
              "  <tbody>\n",
              "    <tr>\n",
              "      <th>i</th>\n",
              "      <td>dog</td>\n",
              "      <td>7</td>\n",
              "      <td>2</td>\n",
              "      <td>no</td>\n",
              "    </tr>\n",
              "    <tr>\n",
              "      <th>e</th>\n",
              "      <td>dog</td>\n",
              "      <td>5</td>\n",
              "      <td>2</td>\n",
              "      <td>no</td>\n",
              "    </tr>\n",
              "    <tr>\n",
              "      <th>g</th>\n",
              "      <td>snake</td>\n",
              "      <td>4.5</td>\n",
              "      <td>1</td>\n",
              "      <td>no</td>\n",
              "    </tr>\n",
              "    <tr>\n",
              "      <th>j</th>\n",
              "      <td>dog</td>\n",
              "      <td>3</td>\n",
              "      <td>1</td>\n",
              "      <td>no</td>\n",
              "    </tr>\n",
              "    <tr>\n",
              "      <th>b</th>\n",
              "      <td>cat</td>\n",
              "      <td>3</td>\n",
              "      <td>3</td>\n",
              "      <td>yes</td>\n",
              "    </tr>\n",
              "    <tr>\n",
              "      <th>a</th>\n",
              "      <td>cat</td>\n",
              "      <td>2.5</td>\n",
              "      <td>1</td>\n",
              "      <td>yes</td>\n",
              "    </tr>\n",
              "    <tr>\n",
              "      <th>f</th>\n",
              "      <td>cat</td>\n",
              "      <td>2</td>\n",
              "      <td>3</td>\n",
              "      <td>no</td>\n",
              "    </tr>\n",
              "    <tr>\n",
              "      <th>c</th>\n",
              "      <td>snake</td>\n",
              "      <td>0.5</td>\n",
              "      <td>2</td>\n",
              "      <td>no</td>\n",
              "    </tr>\n",
              "    <tr>\n",
              "      <th>h</th>\n",
              "      <td>cat</td>\n",
              "      <td>NaN</td>\n",
              "      <td>1</td>\n",
              "      <td>yes</td>\n",
              "    </tr>\n",
              "    <tr>\n",
              "      <th>d</th>\n",
              "      <td>dog</td>\n",
              "      <td>NaN</td>\n",
              "      <td>3</td>\n",
              "      <td>yes</td>\n",
              "    </tr>\n",
              "  </tbody>\n",
              "</table>\n",
              "</div>"
            ],
            "text/plain": [
              "  animal  age visits priority\n",
              "i    dog    7      2       no\n",
              "e    dog    5      2       no\n",
              "g  snake  4.5      1       no\n",
              "j    dog    3      1       no\n",
              "b    cat    3      3      yes\n",
              "a    cat  2.5      1      yes\n",
              "f    cat    2      3       no\n",
              "c  snake  0.5      2       no\n",
              "h    cat  NaN      1      yes\n",
              "d    dog  NaN      3      yes"
            ]
          },
          "metadata": {},
          "execution_count": 100
        }
      ]
    },
    {
      "cell_type": "markdown",
      "metadata": {
        "id": "qRy5HruxZ0BK"
      },
      "source": [
        "**19.** The 'priority' column contains the values 'yes' and 'no'. Replace this column with a column of boolean values: 'yes' should be `True` and 'no' should be `False`."
      ]
    },
    {
      "cell_type": "code",
      "metadata": {
        "collapsed": true,
        "id": "QE7kRzEJZ0BK"
      },
      "source": [
        "df['priority'] = df['priority'].map({'yes': True, 'no': False})"
      ],
      "execution_count": 103,
      "outputs": []
    },
    {
      "cell_type": "markdown",
      "metadata": {
        "id": "BGFgb-6RZ0BK"
      },
      "source": [
        "**20.** In the 'animal' column, change the 'snake' entries to 'python'."
      ]
    },
    {
      "cell_type": "code",
      "metadata": {
        "collapsed": true,
        "colab": {
          "base_uri": "https://localhost:8080/"
        },
        "id": "o1pi3kVBZ0BL",
        "outputId": "63df2c51-9a1a-4d19-bbc1-cd4f195a593f"
      },
      "source": [
        "df['animal'] = df['animal'].replace('snake','python')\n",
        "df['animal']"
      ],
      "execution_count": 101,
      "outputs": [
        {
          "output_type": "execute_result",
          "data": {
            "text/plain": [
              "a       cat\n",
              "b       cat\n",
              "c    python\n",
              "d       dog\n",
              "e       dog\n",
              "f       cat\n",
              "g    python\n",
              "h       cat\n",
              "i       dog\n",
              "j       dog\n",
              "Name: animal, dtype: object"
            ]
          },
          "metadata": {},
          "execution_count": 101
        }
      ]
    },
    {
      "cell_type": "markdown",
      "metadata": {
        "id": "6O_FEl1MZ0BL"
      },
      "source": [
        "**21.** For each animal type and each number of visits, find the mean age. In other words, each row is an animal, each column is a number of visits and the values are the mean ages (hint: use a pivot table)."
      ]
    },
    {
      "cell_type": "code",
      "metadata": {
        "collapsed": true,
        "id": "amJQNaRfZ0BL"
      },
      "source": [
        ""
      ],
      "execution_count": 79,
      "outputs": []
    },
    {
      "cell_type": "markdown",
      "metadata": {
        "id": "mmraLyTaZ0BL"
      },
      "source": [
        "## DataFrames: beyond the basics\n",
        "\n",
        "### Slightly trickier: you may need to combine two or more methods to get the right answer\n",
        "\n",
        "Difficulty: *medium*\n",
        "\n",
        "The previous section was tour through some basic but essential DataFrame operations. Below are some ways that you might need to cut your data, but for which there is no single \"out of the box\" method."
      ]
    },
    {
      "cell_type": "markdown",
      "metadata": {
        "id": "mf-nWtn2Z0BM"
      },
      "source": [
        "**22.** You have a DataFrame `df` with a column 'A' of integers. For example:\n",
        "```python\n",
        "df = pd.DataFrame({'A': [1, 2, 2, 3, 4, 5, 5, 5, 6, 7, 7]})\n",
        "```\n",
        "\n",
        "How do you filter out rows which contain the same integer as the row immediately above?"
      ]
    },
    {
      "cell_type": "code",
      "metadata": {
        "collapsed": true,
        "id": "28QuJKvdZ0BM"
      },
      "source": [
        ""
      ],
      "execution_count": 80,
      "outputs": []
    },
    {
      "cell_type": "markdown",
      "metadata": {
        "id": "Fz0E2naWZ0BN"
      },
      "source": [
        "**23.** Given a DataFrame of numeric values, say\n",
        "```python\n",
        "df = pd.DataFrame(np.random.random(size=(5, 3))) # a 5x3 frame of float values\n",
        "```\n",
        "\n",
        "how do you subtract the row mean from each element in the row?"
      ]
    },
    {
      "cell_type": "code",
      "metadata": {
        "collapsed": true,
        "colab": {
          "base_uri": "https://localhost:8080/",
          "height": 363
        },
        "id": "KHyWSDiKZ0BN",
        "outputId": "5a1219a9-44d3-48bf-912a-f53438996f80"
      },
      "source": [
        "df.sub(df.mean(axis=1), axis=0)"
      ],
      "execution_count": 102,
      "outputs": [
        {
          "output_type": "execute_result",
          "data": {
            "text/html": [
              "<div>\n",
              "<style scoped>\n",
              "    .dataframe tbody tr th:only-of-type {\n",
              "        vertical-align: middle;\n",
              "    }\n",
              "\n",
              "    .dataframe tbody tr th {\n",
              "        vertical-align: top;\n",
              "    }\n",
              "\n",
              "    .dataframe thead th {\n",
              "        text-align: right;\n",
              "    }\n",
              "</style>\n",
              "<table border=\"1\" class=\"dataframe\">\n",
              "  <thead>\n",
              "    <tr style=\"text-align: right;\">\n",
              "      <th></th>\n",
              "      <th>animal</th>\n",
              "      <th>age</th>\n",
              "      <th>visits</th>\n",
              "      <th>priority</th>\n",
              "    </tr>\n",
              "  </thead>\n",
              "  <tbody>\n",
              "    <tr>\n",
              "      <th>a</th>\n",
              "      <td>NaN</td>\n",
              "      <td>NaN</td>\n",
              "      <td>NaN</td>\n",
              "      <td>NaN</td>\n",
              "    </tr>\n",
              "    <tr>\n",
              "      <th>b</th>\n",
              "      <td>NaN</td>\n",
              "      <td>NaN</td>\n",
              "      <td>NaN</td>\n",
              "      <td>NaN</td>\n",
              "    </tr>\n",
              "    <tr>\n",
              "      <th>c</th>\n",
              "      <td>NaN</td>\n",
              "      <td>NaN</td>\n",
              "      <td>NaN</td>\n",
              "      <td>NaN</td>\n",
              "    </tr>\n",
              "    <tr>\n",
              "      <th>d</th>\n",
              "      <td>NaN</td>\n",
              "      <td>NaN</td>\n",
              "      <td>NaN</td>\n",
              "      <td>NaN</td>\n",
              "    </tr>\n",
              "    <tr>\n",
              "      <th>e</th>\n",
              "      <td>NaN</td>\n",
              "      <td>NaN</td>\n",
              "      <td>NaN</td>\n",
              "      <td>NaN</td>\n",
              "    </tr>\n",
              "    <tr>\n",
              "      <th>f</th>\n",
              "      <td>NaN</td>\n",
              "      <td>NaN</td>\n",
              "      <td>NaN</td>\n",
              "      <td>NaN</td>\n",
              "    </tr>\n",
              "    <tr>\n",
              "      <th>g</th>\n",
              "      <td>NaN</td>\n",
              "      <td>NaN</td>\n",
              "      <td>NaN</td>\n",
              "      <td>NaN</td>\n",
              "    </tr>\n",
              "    <tr>\n",
              "      <th>h</th>\n",
              "      <td>NaN</td>\n",
              "      <td>NaN</td>\n",
              "      <td>NaN</td>\n",
              "      <td>NaN</td>\n",
              "    </tr>\n",
              "    <tr>\n",
              "      <th>i</th>\n",
              "      <td>NaN</td>\n",
              "      <td>NaN</td>\n",
              "      <td>NaN</td>\n",
              "      <td>NaN</td>\n",
              "    </tr>\n",
              "    <tr>\n",
              "      <th>j</th>\n",
              "      <td>NaN</td>\n",
              "      <td>NaN</td>\n",
              "      <td>NaN</td>\n",
              "      <td>NaN</td>\n",
              "    </tr>\n",
              "  </tbody>\n",
              "</table>\n",
              "</div>"
            ],
            "text/plain": [
              "  animal  age visits priority\n",
              "a    NaN  NaN    NaN      NaN\n",
              "b    NaN  NaN    NaN      NaN\n",
              "c    NaN  NaN    NaN      NaN\n",
              "d    NaN  NaN    NaN      NaN\n",
              "e    NaN  NaN    NaN      NaN\n",
              "f    NaN  NaN    NaN      NaN\n",
              "g    NaN  NaN    NaN      NaN\n",
              "h    NaN  NaN    NaN      NaN\n",
              "i    NaN  NaN    NaN      NaN\n",
              "j    NaN  NaN    NaN      NaN"
            ]
          },
          "metadata": {},
          "execution_count": 102
        }
      ]
    },
    {
      "cell_type": "markdown",
      "metadata": {
        "id": "I3vZH8ZyZ0BN"
      },
      "source": [
        "**24.** Suppose you have DataFrame with 10 columns of real numbers, for example:\n",
        "\n",
        "```python\n",
        "df = pd.DataFrame(np.random.random(size=(5, 10)), columns=list('abcdefghij'))\n",
        "```\n",
        "Which column of numbers has the smallest sum? (Find that column's label.)"
      ]
    },
    {
      "cell_type": "code",
      "metadata": {
        "collapsed": true,
        "id": "B1yhNpYIZ0BN"
      },
      "source": [
        "df.sum().idxmin()\n"
      ],
      "execution_count": 106,
      "outputs": []
    },
    {
      "cell_type": "markdown",
      "metadata": {
        "id": "-Ue1lQi6Z0BO"
      },
      "source": [
        "**25.** How do you count how many unique rows a DataFrame has (i.e. ignore all rows that are duplicates)?"
      ]
    },
    {
      "cell_type": "code",
      "metadata": {
        "collapsed": true,
        "colab": {
          "base_uri": "https://localhost:8080/"
        },
        "id": "276jzmAuZ0BO",
        "outputId": "cbe93a74-6529-4b8b-d6a4-d4ec42c5b0c2"
      },
      "source": [
        "len(df.drop_duplicates(keep=False))"
      ],
      "execution_count": 108,
      "outputs": [
        {
          "output_type": "execute_result",
          "data": {
            "text/plain": [
              "10"
            ]
          },
          "metadata": {},
          "execution_count": 108
        }
      ]
    },
    {
      "cell_type": "markdown",
      "metadata": {
        "id": "wnJX2FlhZ0BO"
      },
      "source": [
        "The next three puzzles are slightly harder...\n",
        "\n",
        "**26.** You have a DataFrame that consists of 10 columns of floating--point numbers. Suppose that exactly 5 entries in each row are NaN values. For each row of the DataFrame, find the *column* which contains the *third* NaN value.\n",
        "\n",
        "(You should return a Series of column labels.)"
      ]
    },
    {
      "cell_type": "code",
      "metadata": {
        "collapsed": true,
        "id": "eqQos3VYZ0BO"
      },
      "source": [
        ""
      ],
      "execution_count": 109,
      "outputs": []
    },
    {
      "cell_type": "markdown",
      "metadata": {
        "id": "5zTPzDSiZ0BP"
      },
      "source": [
        "**27.** A DataFrame has a column of groups 'grps' and and column of numbers 'vals'. For example: \n",
        "\n",
        "```python\n",
        "df = pd.DataFrame({'grps': list('aaabbcaabcccbbc'), \n",
        "                   'vals': [12,345,3,1,45,14,4,52,54,23,235,21,57,3,87]})\n",
        "```\n",
        "For each *group*, find the sum of the three greatest values."
      ]
    },
    {
      "cell_type": "code",
      "metadata": {
        "collapsed": true,
        "id": "EpvHH3mmZ0BP"
      },
      "source": [
        ""
      ],
      "execution_count": 109,
      "outputs": []
    },
    {
      "cell_type": "markdown",
      "metadata": {
        "id": "1wxgnAJ2Z0BP"
      },
      "source": [
        "**28.** A DataFrame has two integer columns 'A' and 'B'. The values in 'A' are between 1 and 100 (inclusive). For each group of 10 consecutive integers in 'A' (i.e. `(0, 10]`, `(10, 20]`, ...), calculate the sum of the corresponding values in column 'B'."
      ]
    },
    {
      "cell_type": "code",
      "metadata": {
        "collapsed": true,
        "id": "IrlHCAmQZ0BP"
      },
      "source": [
        ""
      ],
      "execution_count": 111,
      "outputs": []
    },
    {
      "cell_type": "markdown",
      "metadata": {
        "id": "fpvbKxX2Z0BQ"
      },
      "source": [
        "## DataFrames: harder problems \n",
        "\n",
        "### These might require a bit of thinking outside the box...\n",
        "\n",
        "...but all are solvable using just the usual pandas/NumPy methods (and so avoid using explicit `for` loops).\n",
        "\n",
        "Difficulty: *hard*"
      ]
    },
    {
      "cell_type": "markdown",
      "metadata": {
        "id": "WpCFQ0FsZ0BQ"
      },
      "source": [
        "**29.** Consider a DataFrame `df` where there is an integer column 'X':\n",
        "```python\n",
        "df = pd.DataFrame({'X': [7, 2, 0, 3, 4, 2, 5, 0, 3, 4]})\n",
        "```\n",
        "For each value, count the difference back to the previous zero (or the start of the Series, whichever is closer). These values should therefore be `[1, 2, 0, 1, 2, 3, 4, 0, 1, 2]`. Make this a new column 'Y'."
      ]
    },
    {
      "cell_type": "code",
      "metadata": {
        "collapsed": true,
        "id": "lRarBOAiZ0BQ"
      },
      "source": [
        ""
      ],
      "execution_count": 113,
      "outputs": []
    },
    {
      "cell_type": "markdown",
      "metadata": {
        "id": "utBy0EILZ0BQ"
      },
      "source": [
        "Here's an alternative approach based on a [cookbook recipe](http://pandas.pydata.org/pandas-docs/stable/cookbook.html#grouping):"
      ]
    },
    {
      "cell_type": "code",
      "metadata": {
        "collapsed": true,
        "id": "q2wU8EpPZ0BR"
      },
      "source": [
        ""
      ],
      "execution_count": null,
      "outputs": []
    },
    {
      "cell_type": "markdown",
      "metadata": {
        "id": "q8W0eZrxZ0BR"
      },
      "source": [
        "**30.** Consider a DataFrame containing rows and columns of purely numerical data. Create a list of the row-column index locations of the 3 largest values."
      ]
    },
    {
      "cell_type": "code",
      "metadata": {
        "collapsed": true,
        "id": "z_BBd4w5Z0BR"
      },
      "source": [
        ""
      ],
      "execution_count": 113,
      "outputs": []
    },
    {
      "cell_type": "markdown",
      "metadata": {
        "id": "R5fbK2XjZ0BR"
      },
      "source": [
        "**31.** Given a DataFrame with a column of group IDs, 'grps', and a column of corresponding integer values, 'vals', replace any negative values in 'vals' with the group mean."
      ]
    },
    {
      "cell_type": "code",
      "metadata": {
        "collapsed": true,
        "id": "z7ruayhSZ0BR"
      },
      "source": [
        "\n"
      ],
      "execution_count": 114,
      "outputs": []
    },
    {
      "cell_type": "markdown",
      "metadata": {
        "id": "U3SClPXcZ0BS"
      },
      "source": [
        "**32.** Implement a rolling mean over groups with window size 3, which ignores NaN value. For example consider the following DataFrame:\n",
        "\n",
        "```python\n",
        ">>> df = pd.DataFrame({'group': list('aabbabbbabab'),\n",
        "                       'value': [1, 2, 3, np.nan, 2, 3, \n",
        "                                 np.nan, 1, 7, 3, np.nan, 8]})\n",
        ">>> df\n",
        "   group  value\n",
        "0      a    1.0\n",
        "1      a    2.0\n",
        "2      b    3.0\n",
        "3      b    NaN\n",
        "4      a    2.0\n",
        "5      b    3.0\n",
        "6      b    NaN\n",
        "7      b    1.0\n",
        "8      a    7.0\n",
        "9      b    3.0\n",
        "10     a    NaN\n",
        "11     b    8.0\n",
        "```\n",
        "The goal is to compute the Series:\n",
        "\n",
        "```\n",
        "0     1.000000\n",
        "1     1.500000\n",
        "2     3.000000\n",
        "3     3.000000\n",
        "4     1.666667\n",
        "5     3.000000\n",
        "6     3.000000\n",
        "7     2.000000\n",
        "8     3.666667\n",
        "9     2.000000\n",
        "10    4.500000\n",
        "11    4.000000\n",
        "```\n",
        "E.g. the first window of size three for group 'b' has values 3.0, NaN and 3.0 and occurs at row index 5. Instead of being NaN the value in the new column at this row index should be 3.0 (just the two non-NaN values are used to compute the mean (3+3)/2)"
      ]
    },
    {
      "cell_type": "code",
      "metadata": {
        "collapsed": true,
        "id": "83Z9wsoNZ0BS"
      },
      "source": [
        ""
      ],
      "execution_count": null,
      "outputs": []
    },
    {
      "cell_type": "markdown",
      "metadata": {
        "id": "GbHkonP1Z0BS"
      },
      "source": [
        "## Series and DatetimeIndex\n",
        "\n",
        "### Exercises for creating and manipulating Series with datetime data\n",
        "\n",
        "Difficulty: *easy/medium*\n",
        "\n",
        "pandas is fantastic for working with dates and times. These puzzles explore some of this functionality.\n"
      ]
    },
    {
      "cell_type": "markdown",
      "metadata": {
        "id": "nzbwgy0wZ0BT"
      },
      "source": [
        "**33.** Create a DatetimeIndex that contains each business day of 2015 and use it to index a Series of random numbers. Let's call this Series `s`."
      ]
    },
    {
      "cell_type": "code",
      "metadata": {
        "collapsed": true,
        "id": "BvfMJuQIZ0BT"
      },
      "source": [
        "dti = pd.date_range(start='2015-01-01', end='2015-12-31', freq='B') \n",
        "s = pd.Series(np.random.rand(len(dti)), index=dti)"
      ],
      "execution_count": 115,
      "outputs": []
    },
    {
      "cell_type": "markdown",
      "metadata": {
        "id": "hxXbQrKUZ0BT"
      },
      "source": [
        "**34.** Find the sum of the values in `s` for every Wednesday."
      ]
    },
    {
      "cell_type": "code",
      "metadata": {
        "collapsed": true,
        "colab": {
          "base_uri": "https://localhost:8080/"
        },
        "id": "1Sh0iW1qZ0BT",
        "outputId": "a14fad46-74a6-48d5-eb9a-dbffad8c4fc0"
      },
      "source": [
        "s[s.index.weekday == 2].sum()"
      ],
      "execution_count": 116,
      "outputs": [
        {
          "output_type": "execute_result",
          "data": {
            "text/plain": [
              "26.16792382564631"
            ]
          },
          "metadata": {},
          "execution_count": 116
        }
      ]
    },
    {
      "cell_type": "markdown",
      "metadata": {
        "id": "pE3-r0MyZ0BU"
      },
      "source": [
        "**35.** For each calendar month in `s`, find the mean of values."
      ]
    },
    {
      "cell_type": "code",
      "metadata": {
        "collapsed": true,
        "colab": {
          "base_uri": "https://localhost:8080/"
        },
        "id": "bhh6t14SZ0BU",
        "outputId": "bf27542e-1836-44bd-af8c-cd3c2cf02b5d"
      },
      "source": [
        "s.resample('M').mean()"
      ],
      "execution_count": 117,
      "outputs": [
        {
          "output_type": "execute_result",
          "data": {
            "text/plain": [
              "2015-01-31    0.552915\n",
              "2015-02-28    0.460794\n",
              "2015-03-31    0.457099\n",
              "2015-04-30    0.514175\n",
              "2015-05-31    0.444342\n",
              "2015-06-30    0.561873\n",
              "2015-07-31    0.409750\n",
              "2015-08-31    0.502796\n",
              "2015-09-30    0.545876\n",
              "2015-10-31    0.440726\n",
              "2015-11-30    0.553595\n",
              "2015-12-31    0.403161\n",
              "Freq: M, dtype: float64"
            ]
          },
          "metadata": {},
          "execution_count": 117
        }
      ]
    },
    {
      "cell_type": "markdown",
      "metadata": {
        "id": "Ep059DMHZ0BU"
      },
      "source": [
        "**36.** For each group of four consecutive calendar months in `s`, find the date on which the highest value occurred."
      ]
    },
    {
      "cell_type": "code",
      "metadata": {
        "collapsed": true,
        "id": "kZ-Dy5sqZ0BU"
      },
      "source": [
        ""
      ],
      "execution_count": 118,
      "outputs": []
    },
    {
      "cell_type": "markdown",
      "metadata": {
        "id": "SZYT_i40Z0BU"
      },
      "source": [
        "**37.** Create a DateTimeIndex consisting of the third Thursday in each month for the years 2015 and 2016."
      ]
    },
    {
      "cell_type": "code",
      "metadata": {
        "collapsed": true,
        "colab": {
          "base_uri": "https://localhost:8080/"
        },
        "id": "R5zxjC-zZ0BV",
        "outputId": "faae0c93-f8fd-46db-e667-ab8d07d009f2"
      },
      "source": [
        "pd.date_range('2015-01-01', '2016-12-31', freq='WOM-3THU')"
      ],
      "execution_count": 119,
      "outputs": [
        {
          "output_type": "execute_result",
          "data": {
            "text/plain": [
              "DatetimeIndex(['2015-01-15', '2015-02-19', '2015-03-19', '2015-04-16',\n",
              "               '2015-05-21', '2015-06-18', '2015-07-16', '2015-08-20',\n",
              "               '2015-09-17', '2015-10-15', '2015-11-19', '2015-12-17',\n",
              "               '2016-01-21', '2016-02-18', '2016-03-17', '2016-04-21',\n",
              "               '2016-05-19', '2016-06-16', '2016-07-21', '2016-08-18',\n",
              "               '2016-09-15', '2016-10-20', '2016-11-17', '2016-12-15'],\n",
              "              dtype='datetime64[ns]', freq='WOM-3THU')"
            ]
          },
          "metadata": {},
          "execution_count": 119
        }
      ]
    },
    {
      "cell_type": "markdown",
      "metadata": {
        "id": "JimtVYylZ0BV"
      },
      "source": [
        "## Cleaning Data\n",
        "\n",
        "### Making a DataFrame easier to work with\n",
        "\n",
        "Difficulty: *easy/medium*\n",
        "\n",
        "It happens all the time: someone gives you data containing malformed strings, Python, lists and missing data. How do you tidy it up so you can get on with the analysis?\n",
        "\n",
        "Take this monstrosity as the DataFrame to use in the following puzzles:\n",
        "\n",
        "```python\n",
        "df = pd.DataFrame({'From_To': ['LoNDon_paris', 'MAdrid_miLAN', 'londON_StockhOlm', \n",
        "                               'Budapest_PaRis', 'Brussels_londOn'],\n",
        "              'FlightNumber': [10045, np.nan, 10065, np.nan, 10085],\n",
        "              'RecentDelays': [[23, 47], [], [24, 43, 87], [13], [67, 32]],\n",
        "                   'Airline': ['KLM(!)', '<Air France> (12)', '(British Airways. )', \n",
        "                               '12. Air France', '\"Swiss Air\"']})\n",
        "```\n",
        "(It's some flight data I made up; it's not meant to be accurate in any way.)\n"
      ]
    },
    {
      "cell_type": "markdown",
      "metadata": {
        "id": "KqVIYoRMZ0BV"
      },
      "source": [
        "**38.** Some values in the the FlightNumber column are missing. These numbers are meant to increase by 10 with each row so 10055 and 10075 need to be put in place. Fill in these missing numbers and make the column an integer column (instead of a float column)."
      ]
    },
    {
      "cell_type": "code",
      "metadata": {
        "collapsed": true,
        "id": "z7FqaI0CZ0BV"
      },
      "source": [
        ""
      ],
      "execution_count": 122,
      "outputs": []
    },
    {
      "cell_type": "markdown",
      "metadata": {
        "id": "n3kNBDs2Z0BW"
      },
      "source": [
        "**39.** The From\\_To column would be better as two separate columns! Split each string on the underscore delimiter `_` to give a new temporary DataFrame with the correct values. Assign the correct column names to this temporary DataFrame. "
      ]
    },
    {
      "cell_type": "code",
      "metadata": {
        "collapsed": true,
        "id": "J6HQ5SKzZ0BW"
      },
      "source": [
        ""
      ],
      "execution_count": 122,
      "outputs": []
    },
    {
      "cell_type": "markdown",
      "metadata": {
        "id": "iiorsu31Z0BW"
      },
      "source": [
        "**40.** Notice how the capitalisation of the city names is all mixed up in this temporary DataFrame. Standardise the strings so that only the first letter is uppercase (e.g. \"londON\" should become \"London\".)"
      ]
    },
    {
      "cell_type": "code",
      "metadata": {
        "collapsed": true,
        "id": "RsNy7Hh-Z0BW"
      },
      "source": [
        ""
      ],
      "execution_count": null,
      "outputs": []
    },
    {
      "cell_type": "markdown",
      "metadata": {
        "id": "YE7SkBWxZ0BX"
      },
      "source": [
        "**41.** Delete the From_To column from `df` and attach the temporary DataFrame from the previous questions."
      ]
    },
    {
      "cell_type": "code",
      "metadata": {
        "collapsed": true,
        "id": "I0H31iYkZ0BX"
      },
      "source": [
        ""
      ],
      "execution_count": 140,
      "outputs": []
    },
    {
      "cell_type": "markdown",
      "metadata": {
        "id": "urGCzvzvZ0BX"
      },
      "source": [
        "**42**. In the Airline column, you can see some extra puctuation and symbols have appeared around the airline names. Pull out just the airline name. E.g. `'(British Airways. )'` should become `'British Airways'`."
      ]
    },
    {
      "cell_type": "code",
      "metadata": {
        "collapsed": true,
        "id": "_3SjSBJbZ0BX"
      },
      "source": [
        ""
      ],
      "execution_count": 123,
      "outputs": []
    },
    {
      "cell_type": "markdown",
      "metadata": {
        "id": "SxGSFU3OZ0BX"
      },
      "source": [
        "**43**. In the RecentDelays column, the values have been entered into the DataFrame as a list. We would like each first value in its own column, each second value in its own column, and so on. If there isn't an Nth value, the value should be NaN.\n",
        "\n",
        "Expand the Series of lists into a DataFrame named `delays`, rename the columns `delay_1`, `delay_2`, etc. and replace the unwanted RecentDelays column in `df` with `delays`."
      ]
    },
    {
      "cell_type": "code",
      "metadata": {
        "collapsed": true,
        "id": "xwr668waZ0BY"
      },
      "source": [
        ""
      ],
      "execution_count": null,
      "outputs": []
    },
    {
      "cell_type": "markdown",
      "metadata": {
        "id": "KLQG9LupZ0BY"
      },
      "source": [
        "The DataFrame should look much better now."
      ]
    },
    {
      "cell_type": "markdown",
      "metadata": {
        "collapsed": true,
        "id": "3XVvkxcNZ0BY"
      },
      "source": [
        "## Using MultiIndexes\n",
        "\n",
        "### Go beyond flat DataFrames with additional index levels\n",
        "\n",
        "Difficulty: *medium*\n",
        "\n",
        "Previous exercises have seen us analysing data from DataFrames equipped with a single index level. However, pandas also gives you the possibilty of indexing your data using *multiple* levels. This is very much like adding new dimensions to a Series or a DataFrame. For example, a Series is 1D, but by using a MultiIndex with 2 levels we gain of much the same functionality as a 2D DataFrame.\n",
        "\n",
        "The set of puzzles below explores how you might use multiple index levels to enhance data analysis.\n",
        "\n",
        "To warm up, we'll look make a Series with two index levels. "
      ]
    },
    {
      "cell_type": "markdown",
      "metadata": {
        "id": "YLcFw6JgZ0BY"
      },
      "source": [
        "**44**. Given the lists `letters = ['A', 'B', 'C']` and `numbers = list(range(10))`, construct a MultiIndex object from the product of the two lists. Use it to index a Series of random numbers. Call this Series `s`."
      ]
    },
    {
      "cell_type": "code",
      "metadata": {
        "collapsed": true,
        "id": "c06WVPxiZ0BZ"
      },
      "source": [
        "letters = ['A', 'B', 'C']\n",
        "numbers = list(range(10))\n",
        "\n",
        "mi = pd.MultiIndex.from_product([letters, numbers])\n",
        "s = pd.Series(np.random.rand(30), index=mi)"
      ],
      "execution_count": 124,
      "outputs": []
    },
    {
      "cell_type": "markdown",
      "metadata": {
        "id": "C0E0v0DpZ0BZ"
      },
      "source": [
        "**45.** Check the index of `s` is lexicographically sorted (this is a necessary proprty for indexing to work correctly with a MultiIndex)."
      ]
    },
    {
      "cell_type": "code",
      "metadata": {
        "collapsed": true,
        "colab": {
          "base_uri": "https://localhost:8080/"
        },
        "id": "dEtqivJ_Z0BZ",
        "outputId": "43f7e7c0-b5f8-4013-a5de-342885e49ed4"
      },
      "source": [
        "s.index.is_lexsorted()"
      ],
      "execution_count": 125,
      "outputs": [
        {
          "output_type": "execute_result",
          "data": {
            "text/plain": [
              "True"
            ]
          },
          "metadata": {},
          "execution_count": 125
        }
      ]
    },
    {
      "cell_type": "markdown",
      "metadata": {
        "id": "ZvSad2vAZ0BZ"
      },
      "source": [
        "**46**. Select the labels `1`, `3` and `6` from the second level of the MultiIndexed Series."
      ]
    },
    {
      "cell_type": "code",
      "metadata": {
        "collapsed": true,
        "colab": {
          "base_uri": "https://localhost:8080/"
        },
        "id": "t8JYUaboZ0Ba",
        "outputId": "5054112a-0a50-40cd-b1aa-aa5b463df971"
      },
      "source": [
        "s.loc[:, [1, 3, 6]]"
      ],
      "execution_count": 126,
      "outputs": [
        {
          "output_type": "execute_result",
          "data": {
            "text/plain": [
              "A  1    0.280566\n",
              "   3    0.846163\n",
              "   6    0.616005\n",
              "B  1    0.813998\n",
              "   3    0.883979\n",
              "   6    0.735533\n",
              "C  1    0.446831\n",
              "   3    0.557182\n",
              "   6    0.033806\n",
              "dtype: float64"
            ]
          },
          "metadata": {},
          "execution_count": 126
        }
      ]
    },
    {
      "cell_type": "markdown",
      "metadata": {
        "id": "sXlBR9WiZ0Ba"
      },
      "source": [
        "**47**. Slice the Series `s`; slice up to label 'B' for the first level and from label 5 onwards for the second level."
      ]
    },
    {
      "cell_type": "code",
      "metadata": {
        "collapsed": true,
        "colab": {
          "base_uri": "https://localhost:8080/"
        },
        "id": "i2AgARPjZ0Ba",
        "outputId": "7cfff68b-e0f2-4c7e-9ea9-ecc448e32e20"
      },
      "source": [
        "s.loc[pd.IndexSlice[:'B', 5:]]"
      ],
      "execution_count": 127,
      "outputs": [
        {
          "output_type": "execute_result",
          "data": {
            "text/plain": [
              "A  5    0.418032\n",
              "   6    0.616005\n",
              "   7    0.221206\n",
              "   8    0.922675\n",
              "   9    0.838337\n",
              "B  5    0.743900\n",
              "   6    0.735533\n",
              "   7    0.284708\n",
              "   8    0.095275\n",
              "   9    0.567005\n",
              "dtype: float64"
            ]
          },
          "metadata": {},
          "execution_count": 127
        }
      ]
    },
    {
      "cell_type": "markdown",
      "metadata": {
        "id": "VTdRXRQjZ0Ba"
      },
      "source": [
        "**48**. Sum the values in `s` for each label in the first level (you should have Series giving you a total for labels A, B and C)."
      ]
    },
    {
      "cell_type": "code",
      "metadata": {
        "collapsed": true,
        "colab": {
          "base_uri": "https://localhost:8080/"
        },
        "id": "ZOTwp71JZ0Bb",
        "outputId": "910d1655-425e-495a-910f-98d60e9ff206"
      },
      "source": [
        "s.sum(level=0)"
      ],
      "execution_count": 128,
      "outputs": [
        {
          "output_type": "execute_result",
          "data": {
            "text/plain": [
              "A    5.138139\n",
              "B    6.193173\n",
              "C    4.192838\n",
              "dtype: float64"
            ]
          },
          "metadata": {},
          "execution_count": 128
        }
      ]
    },
    {
      "cell_type": "markdown",
      "metadata": {
        "id": "7SmyFie1Z0Bb"
      },
      "source": [
        "**49**. Suppose that `sum()` (and other methods) did not accept a `level` keyword argument. How else could you perform the equivalent of `s.sum(level=1)`?"
      ]
    },
    {
      "cell_type": "code",
      "metadata": {
        "collapsed": true,
        "colab": {
          "base_uri": "https://localhost:8080/"
        },
        "id": "90xQs6iEZ0Bb",
        "outputId": "9bcbf246-8295-40dc-8f2e-255a12d4b45f"
      },
      "source": [
        "s.unstack().sum(axis=0)"
      ],
      "execution_count": 129,
      "outputs": [
        {
          "output_type": "execute_result",
          "data": {
            "text/plain": [
              "0    1.333924\n",
              "1    1.541394\n",
              "2    1.362199\n",
              "3    2.287324\n",
              "4    1.930754\n",
              "5    1.385513\n",
              "6    1.385344\n",
              "7    1.465152\n",
              "8    1.276938\n",
              "9    1.555607\n",
              "dtype: float64"
            ]
          },
          "metadata": {},
          "execution_count": 129
        }
      ]
    },
    {
      "cell_type": "markdown",
      "metadata": {
        "id": "QeNBdX2QZ0Bb"
      },
      "source": [
        "**50**. Exchange the levels of the MultiIndex so we have an index of the form (letters, numbers). Is this new Series properly lexsorted? If not, sort it."
      ]
    },
    {
      "cell_type": "code",
      "metadata": {
        "id": "JWxtPv9Konm4"
      },
      "source": [
        "new_s = s.swaplevel(0, 1)\n",
        "\n",
        "new_s.index.is_lexsorted()\n",
        "\n",
        "new_s = new_s.sort_index()"
      ],
      "execution_count": 130,
      "outputs": []
    },
    {
      "cell_type": "markdown",
      "metadata": {
        "id": "_ixnaTEbZ0Bc"
      },
      "source": [
        "## Minesweeper\n",
        "\n",
        "### Generate the numbers for safe squares in a Minesweeper grid\n",
        "\n",
        "Difficulty: *medium* to *hard*\n",
        "\n",
        "If you've ever used an older version of Windows, there's a good chance you've played with [Minesweeper](https://en.wikipedia.org/wiki/Minesweeper_(video_game). If you're not familiar with the game, imagine a grid of squares: some of these squares conceal a mine. If you click on a mine, you lose instantly. If you click on a safe square, you reveal a number telling you how many mines are found in the squares that are immediately adjacent. The aim of the game is to uncover all squares in the grid that do not contain a mine.\n",
        "\n",
        "In this section, we'll make a DataFrame that contains the necessary data for a game of Minesweeper: coordinates of the squares, whether the square contains a mine and the number of mines found on adjacent squares."
      ]
    },
    {
      "cell_type": "markdown",
      "metadata": {
        "id": "S6rG8jQfZ0Bc"
      },
      "source": [
        "**51**. Let's suppose we're playing Minesweeper on a 5 by 4 grid, i.e.\n",
        "```\n",
        "X = 5\n",
        "Y = 4\n",
        "```\n",
        "To begin, generate a DataFrame `df` with two columns, `'x'` and `'y'` containing every coordinate for this grid. That is, the DataFrame should start:\n",
        "```\n",
        "   x  y\n",
        "0  0  0\n",
        "1  0  1\n",
        "2  0  2\n",
        "```"
      ]
    },
    {
      "cell_type": "code",
      "metadata": {
        "collapsed": true,
        "id": "BQ05zj_XZ0Bc"
      },
      "source": [
        ""
      ],
      "execution_count": 131,
      "outputs": []
    },
    {
      "cell_type": "markdown",
      "metadata": {
        "id": "fnLrxB6vZ0Bc"
      },
      "source": [
        "**52**. For this DataFrame `df`, create a new column of zeros (safe) and ones (mine). The probability of a mine occuring at each location should be 0.4."
      ]
    },
    {
      "cell_type": "code",
      "metadata": {
        "collapsed": true,
        "id": "7noOg638Z0Bd"
      },
      "source": [
        ""
      ],
      "execution_count": null,
      "outputs": []
    },
    {
      "cell_type": "markdown",
      "metadata": {
        "id": "0F10kpghZ0Bd"
      },
      "source": [
        "**53**. Now create a new column for this DataFrame called `'adjacent'`. This column should contain the number of mines found on adjacent squares in the grid. \n",
        "\n",
        "(E.g. for the first row, which is the entry for the coordinate `(0, 0)`, count how many mines are found on the coordinates `(0, 1)`, `(1, 0)` and `(1, 1)`.)"
      ]
    },
    {
      "cell_type": "code",
      "metadata": {
        "collapsed": true,
        "id": "ugrgeBy9Z0Bd"
      },
      "source": [
        ""
      ],
      "execution_count": null,
      "outputs": []
    },
    {
      "cell_type": "markdown",
      "metadata": {
        "id": "2zndal1IZ0Bd"
      },
      "source": [
        "**54**. For rows of the DataFrame that contain a mine, set the value in the `'adjacent'` column to NaN."
      ]
    },
    {
      "cell_type": "code",
      "metadata": {
        "collapsed": true,
        "id": "5dtAveQOZ0Be"
      },
      "source": [
        ""
      ],
      "execution_count": 132,
      "outputs": []
    },
    {
      "cell_type": "markdown",
      "metadata": {
        "id": "OmowAtX0Z0Be"
      },
      "source": [
        "**55**. Finally, convert the DataFrame to grid of the adjacent mine counts: columns are the `x` coordinate, rows are the `y` coordinate."
      ]
    },
    {
      "cell_type": "code",
      "metadata": {
        "collapsed": true,
        "id": "qm7MaVqtZ0Be"
      },
      "source": [
        ""
      ],
      "execution_count": null,
      "outputs": []
    },
    {
      "cell_type": "markdown",
      "metadata": {
        "id": "HRJpxdOgZ0Be"
      },
      "source": [
        "## Plotting\n",
        "\n",
        "### Visualize trends and patterns in data\n",
        "\n",
        "Difficulty: *medium*\n",
        "\n",
        "To really get a good understanding of the data contained in your DataFrame, it is often essential to create plots: if you're lucky, trends and anomalies will jump right out at you. This functionality is baked into pandas and the puzzles below explore some of what's possible with the library.\n",
        "\n",
        "**56.** Pandas is highly integrated with the plotting library matplotlib, and makes plotting DataFrames very user-friendly! Plotting in a notebook environment usually makes use of the following boilerplate:\n",
        "\n",
        "```python\n",
        "import matplotlib.pyplot as plt\n",
        "%matplotlib inline\n",
        "plt.style.use('ggplot')\n",
        "```\n",
        "\n",
        "matplotlib is the plotting library which pandas' plotting functionality is built upon, and it is usually aliased to ```plt```.\n",
        "\n",
        "```%matplotlib inline``` tells the notebook to show plots inline, instead of creating them in a separate window.  \n",
        "\n",
        "```plt.style.use('ggplot')``` is a style theme that most people find agreeable, based upon the styling of R's ggplot package.\n",
        "\n",
        "For starters, make a scatter plot of this random data, but use black X's instead of the default markers. \n",
        "\n",
        "```df = pd.DataFrame({\"xs\":[1,5,2,8,1], \"ys\":[4,2,1,9,6]})```\n",
        "\n",
        "Consult the [documentation](https://pandas.pydata.org/pandas-docs/stable/generated/pandas.DataFrame.plot.html) if you get stuck!"
      ]
    },
    {
      "cell_type": "code",
      "metadata": {
        "collapsed": true,
        "id": "KHBjzTw6Z0Bf"
      },
      "source": [
        ""
      ],
      "execution_count": null,
      "outputs": []
    },
    {
      "cell_type": "markdown",
      "metadata": {
        "id": "w4b8voMHZ0Bf"
      },
      "source": [
        "**57.** Columns in your DataFrame can also be used to modify colors and sizes.  Bill has been keeping track of his performance at work over time, as well as how good he was feeling that day, and whether he had a cup of coffee in the morning.  Make a plot which incorporates all four features of this DataFrame.\n",
        "\n",
        "(Hint:  If you're having trouble seeing the plot, try multiplying the Series which you choose to represent size by 10 or more)\n",
        "\n",
        "*The chart doesn't have to be pretty: this isn't a course in data viz!*\n",
        "\n",
        "```\n",
        "df = pd.DataFrame({\"productivity\":[5,2,3,1,4,5,6,7,8,3,4,8,9],\n",
        "                   \"hours_in\"    :[1,9,6,5,3,9,2,9,1,7,4,2,2],\n",
        "                   \"happiness\"   :[2,1,3,2,3,1,2,3,1,2,2,1,3],\n",
        "                   \"caffienated\" :[0,0,1,1,0,0,0,0,1,1,0,1,0]})\n",
        "```"
      ]
    },
    {
      "cell_type": "code",
      "metadata": {
        "collapsed": true,
        "colab": {
          "base_uri": "https://localhost:8080/",
          "height": 297
        },
        "id": "WB3M2IeHZ0Bf",
        "outputId": "163437d3-db72-455e-849f-5aea02dd3cae"
      },
      "source": [
        "df = pd.DataFrame({\"productivity\":[5,2,3,1,4,5,6,7,8,3,4,8,9],\n",
        "                   \"hours_in\"    :[1,9,6,5,3,9,2,9,1,7,4,2,2],\n",
        "                   \"happiness\"   :[2,1,3,2,3,1,2,3,1,2,2,1,3],\n",
        "                   \"caffienated\" :[0,0,1,1,0,0,0,0,1,1,0,1,0]})\n",
        "\n",
        "df.plot.scatter(\"hours_in\", \"productivity\", s = df.happiness * 30, c = df.caffienated)"
      ],
      "execution_count": 133,
      "outputs": [
        {
          "output_type": "execute_result",
          "data": {
            "text/plain": [
              "<matplotlib.axes._subplots.AxesSubplot at 0x7fec026b6f90>"
            ]
          },
          "metadata": {},
          "execution_count": 133
        },
        {
          "output_type": "display_data",
          "data": {
            "image/png": "[encoded data removed]",
            "text/plain": [
              "<Figure size 432x288 with 1 Axes>"
            ]
          },
          "metadata": {
            "needs_background": "light"
          }
        }
      ]
    },
    {
      "cell_type": "markdown",
      "metadata": {
        "id": "EhFkUUF6Z0Bf"
      },
      "source": [
        "**58.**  What if we want to plot multiple things?  Pandas allows you to pass in a matplotlib *Axis* object for plots, and plots will also return an Axis object.\n",
        "\n",
        "Make a bar plot of monthly revenue with a line plot of monthly advertising spending (numbers in millions)\n",
        "\n",
        "```\n",
        "df = pd.DataFrame({\"revenue\":[57,68,63,71,72,90,80,62,59,51,47,52],\n",
        "                   \"advertising\":[2.1,1.9,2.7,3.0,3.6,3.2,2.7,2.4,1.8,1.6,1.3,1.9],\n",
        "                   \"month\":range(12)\n",
        "                  })\n",
        "```"
      ]
    },
    {
      "cell_type": "code",
      "metadata": {
        "collapsed": true,
        "colab": {
          "base_uri": "https://localhost:8080/",
          "height": 296
        },
        "id": "a98BthYSZ0Bg",
        "outputId": "0313e200-c08b-426b-80f6-21e029f67a6f"
      },
      "source": [
        "df = pd.DataFrame({\"revenue\":[57,68,63,71,72,90,80,62,59,51,47,52],\n",
        "                   \"advertising\":[2.1,1.9,2.7,3.0,3.6,3.2,2.7,2.4,1.8,1.6,1.3,1.9],\n",
        "                   \"month\":range(12)\n",
        "                  })\n",
        "\n",
        "ax = df.plot.bar(\"month\", \"revenue\", color = \"green\")\n",
        "df.plot.line(\"month\", \"advertising\", secondary_y = True, ax = ax)\n",
        "ax.set_xlim((-1,12))"
      ],
      "execution_count": 134,
      "outputs": [
        {
          "output_type": "execute_result",
          "data": {
            "text/plain": [
              "(-1.0, 12.0)"
            ]
          },
          "metadata": {},
          "execution_count": 134
        },
        {
          "output_type": "display_data",
          "data": {
            "image/png": "[encoded data removed]",
            "text/plain": [
              "<Figure size 432x288 with 2 Axes>"
            ]
          },
          "metadata": {
            "needs_background": "light"
          }
        }
      ]
    },
    {
      "cell_type": "markdown",
      "metadata": {
        "id": "s7HaPmkXZ0Bg"
      },
      "source": [
        "Now we're finally ready to create a candlestick chart, which is a very common tool used to analyze stock price data.  A candlestick chart shows the opening, closing, highest, and lowest price for a stock during a time window.  The color of the \"candle\" (the thick part of the bar) is green if the stock closed above its opening price, or red if below.\n",
        "\n",
        "![Candlestick Example](img/candle.jpg)\n",
        "\n",
        "This was initially designed to be a pandas plotting challenge, but it just so happens that this type of plot is just not feasible using pandas' methods.  If you are unfamiliar with matplotlib, we have provided a function that will plot the chart for you so long as you can use pandas to get the data into the correct format.\n",
        "\n",
        "Your first step should be to get the data in the correct format using pandas' time-series grouping function.  We would like each candle to represent an hour's worth of data.  You can write your own aggregation function which returns the open/high/low/close, but pandas has a built-in which also does this."
      ]
    },
    {
      "cell_type": "markdown",
      "metadata": {
        "id": "DS9sksdhZ0Bg"
      },
      "source": [
        "The below cell contains helper functions.  Call ```day_stock_data()``` to generate a DataFrame containing the prices a hypothetical stock sold for, and the time the sale occurred.  Call ```plot_candlestick(df)``` on your properly aggregated and formatted stock data to print the candlestick chart."
      ]
    },
    {
      "cell_type": "code",
      "metadata": {
        "collapsed": true,
        "id": "l7Ue8QkWZ0Bg"
      },
      "source": [
        "import numpy as np\n",
        "def float_to_time(x):\n",
        "    return str(int(x)) + \":\" + str(int(x%1 * 60)).zfill(2) + \":\" + str(int(x*60 % 1 * 60)).zfill(2)\n",
        "\n",
        "def day_stock_data():\n",
        "    #NYSE is open from 9:30 to 4:00\n",
        "    time = 9.5\n",
        "    price = 100\n",
        "    results = [(float_to_time(time), price)]\n",
        "    while time < 16:\n",
        "        elapsed = np.random.exponential(.001)\n",
        "        time += elapsed\n",
        "        if time > 16:\n",
        "            break\n",
        "        price_diff = np.random.uniform(.999, 1.001)\n",
        "        price *= price_diff\n",
        "        results.append((float_to_time(time), price))\n",
        "    \n",
        "    \n",
        "    df = pd.DataFrame(results, columns = ['time','price'])\n",
        "    df.time = pd.to_datetime(df.time)\n",
        "    return df\n",
        "\n",
        "#Don't read me unless you get stuck!\n",
        "def plot_candlestick(agg):\n",
        "    \"\"\"\n",
        "    agg is a DataFrame which has a DatetimeIndex and five columns: [\"open\",\"high\",\"low\",\"close\",\"color\"]\n",
        "    \"\"\"\n",
        "    fig, ax = plt.subplots()\n",
        "    for time in agg.index:\n",
        "        ax.plot([time.hour] * 2, agg.loc[time, [\"high\",\"low\"]].values, color = \"black\")\n",
        "        ax.plot([time.hour] * 2, agg.loc[time, [\"open\",\"close\"]].values, color = agg.loc[time, \"color\"], linewidth = 10)\n",
        "\n",
        "    ax.set_xlim((8,16))\n",
        "    ax.set_ylabel(\"Price\")\n",
        "    ax.set_xlabel(\"Hour\")\n",
        "    ax.set_title(\"OHLC of Stock Value During Trading Day\")\n",
        "    plt.show()"
      ],
      "execution_count": null,
      "outputs": []
    },
    {
      "cell_type": "markdown",
      "metadata": {
        "id": "xt1xnmWyZ0Bh"
      },
      "source": [
        "**59.** Generate a day's worth of random stock data, and aggregate / reformat it so that it has hourly summaries of the opening, highest, lowest, and closing prices"
      ]
    },
    {
      "cell_type": "code",
      "metadata": {
        "collapsed": true,
        "id": "3d4GTMVNZ0Bi"
      },
      "source": [
        ""
      ],
      "execution_count": 140,
      "outputs": []
    },
    {
      "cell_type": "markdown",
      "metadata": {
        "id": "QUcW60IbZ0Bi"
      },
      "source": [
        "**60.** Now that you have your properly-formatted data, try to plot it yourself as a candlestick chart.  Use the ```plot_candlestick(df)``` function above, or matplotlib's [```plot``` documentation](https://matplotlib.org/api/_as_gen/matplotlib.axes.Axes.plot.html) if you get stuck."
      ]
    },
    {
      "cell_type": "code",
      "metadata": {
        "collapsed": true,
        "id": "MbVR8LfjZ0Bi"
      },
      "source": [
        ""
      ],
      "execution_count": 140,
      "outputs": []
    },
    {
      "cell_type": "markdown",
      "metadata": {
        "id": "EHt7GSAiZ0Bi"
      },
      "source": [
        ""
      ]
    }
  ]
}